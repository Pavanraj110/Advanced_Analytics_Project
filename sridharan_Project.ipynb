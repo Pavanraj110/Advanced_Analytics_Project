{
  "cells": [
    {
      "cell_type": "markdown",
      "id": "49ad3400",
      "metadata": {
        "id": "49ad3400"
      },
      "source": [
        "# Overview of the Dataset\n",
        "This dataset, sourced from the educational sector, provides an in-depth look at college retention, a critical aspect of educational success. It encompasses a comprehensive range of data, capturing multifaceted aspects of student life and academic journey in a college setting. Key elements of this dataset include:\n",
        "\n",
        "Academic Performance:\n",
        "\n",
        "It details students' academic achievements, offering insights into grades and overall academic progress. This data is crucial for analyzing the academic aspects that contribute to student retention.\n",
        "\n",
        "Student Demographics:\n",
        "\n",
        "The dataset includes demographic information, shedding light on the diversity of the student body and its potential impact on academic outcomes.\n",
        "\n",
        "Counseling and Advisory Engagement:\n",
        "\n",
        "Data on students' participation in counseling and advisory sessions is a highlight of this dataset, indicating the level of support and guidance students receive.\n",
        "\n",
        "Teaching Quality Feedback:\n",
        "\n",
        "Students' perceptions of teaching quality are captured, providing an important perspective on the educational experience and its influence on student success and retention.\n",
        "\n",
        "The dataset's comprehensive coverage of these areas makes it an invaluable resource for understanding the dynamics of student retention in colleges. It offers educational institutions and researchers the data needed to develop targeted strategies to enhance student engagement and academic achievement."
      ]
    },
    {
      "cell_type": "code",
      "execution_count": 18,
      "id": "395e4d3f",
      "metadata": {
        "id": "395e4d3f"
      },
      "outputs": [],
      "source": [
        "import pandas as pd\n",
        "import pandas as preprocessor\n",
        "import matplotlib.pyplot as plt\n",
        "import seaborn as sns"
      ]
    },
    {
      "cell_type": "code",
      "execution_count": 4,
      "id": "e255215c",
      "metadata": {
        "id": "e255215c"
      },
      "outputs": [],
      "source": [
        "# Loading the dataset\n",
        "df = pd.read_excel('/content/COLLEGE_RET_SV.xlsx', sheet_name='DB')"
      ]
    },
    {
      "cell_type": "code",
      "execution_count": 5,
      "id": "ce1865ba",
      "metadata": {
        "colab": {
          "base_uri": "https://localhost:8080/",
          "height": 481
        },
        "id": "ce1865ba",
        "outputId": "2f69fbaf-cbf9-4353-ce33-f21ca69dff87"
      },
      "outputs": [
        {
          "output_type": "execute_result",
          "data": {
            "text/plain": [
              "       ID  SEMESTER                   MAJOR       ESTATUS  GENDER   ORIGIN  \\\n",
              "0  398471         8                Business      ENROLLED  FEMALE    Local   \n",
              "1  804181         5             Engineering      ENROLLED    MALE    Local   \n",
              "2  431091         1              Psychology  NOT ENROLLED  FEMALE  Foreign   \n",
              "3  741091         6             Engineering      ENROLLED  FEMALE    Local   \n",
              "4  274091         1       Industrial Design      ENROLLED  FEMALE    Local   \n",
              "5  575091         1               Economics      ENROLLED  FEMALE    Local   \n",
              "6  806091         8                 Physics      ENROLLED    MALE    Local   \n",
              "7  336091         1  Engineering Management      ENROLLED  FEMALE    Local   \n",
              "8  697091         4            Architecture      ENROLLED  FEMALE    Local   \n",
              "9  538091         1       Industrial Design      ENROLLED  FEMALE    Local   \n",
              "\n",
              "   FIRSTPART_GRADE  SECONDPARTIAL_GRADE  FINALEXAM_GRADE  FINAL_GRADE  ...  \\\n",
              "0        91.285714            89.285714        91.714286    85.428571  ...   \n",
              "1        89.111111            92.555556        92.444444    91.444444  ...   \n",
              "2        98.545455            96.909091        98.363636    99.090909  ...   \n",
              "3        89.555556            84.888889        90.777778    97.444444  ...   \n",
              "4        83.300000            80.200000        79.800000    72.000000  ...   \n",
              "5        70.428571            76.416667        83.583333    83.500000  ...   \n",
              "6        93.750000            95.125000        93.125000    86.625000  ...   \n",
              "7        98.250000            96.500000        96.166667    92.750000  ...   \n",
              "8        96.428571            96.285714        97.285714    94.714286  ...   \n",
              "9        95.285714            96.428571        95.857143    94.428571  ...   \n",
              "\n",
              "   TEACHEREVAL_Q8  TEACHEREVAL_Q9  TEACHEREVAL_Q10  TEACHEREVAL_Q11  \\\n",
              "0        7.000000        7.000000         6.000000         6.750000   \n",
              "1        7.000000        7.000000         7.000000         7.000000   \n",
              "2        6.000000        6.285714         6.142857         6.142857   \n",
              "3        7.000000        7.000000         7.000000         7.000000   \n",
              "4        7.000000        7.000000         7.000000         7.000000   \n",
              "5        6.714286        7.000000         7.000000         7.000000   \n",
              "6        7.000000        7.000000         7.000000         7.000000   \n",
              "7        7.000000        7.000000         7.000000         7.000000   \n",
              "8        7.000000        7.000000         7.000000         7.000000   \n",
              "9        7.000000        7.000000         7.000000         7.000000   \n",
              "\n",
              "   TEACHEREVAL_Q12  TEACHEREVAL_Q13  TEACHEREVAL_Q14  TEACHEREVAL_Q15  \\\n",
              "0         7.000000              6.5             6.75             6.75   \n",
              "1         7.000000              7.0             7.00             7.00   \n",
              "2         6.142857              6.0             6.00             6.00   \n",
              "3         7.000000              7.0             7.00             7.00   \n",
              "4         7.000000              7.0             7.00             7.00   \n",
              "5         7.000000              7.0             7.00             7.00   \n",
              "6         7.000000              7.0             7.00             7.00   \n",
              "7         7.000000              7.0             7.00             7.00   \n",
              "8         7.000000              7.0             7.00             7.00   \n",
              "9         7.000000              7.0             7.00             7.00   \n",
              "\n",
              "   TEACHEREVAL_Q16  HONOR_FAULTS  \n",
              "0              7.0             0  \n",
              "1              7.0             0  \n",
              "2              6.0             0  \n",
              "3              7.0             0  \n",
              "4              7.0             0  \n",
              "5              7.0             0  \n",
              "6              7.0             0  \n",
              "7              7.0             0  \n",
              "8              7.0             0  \n",
              "9              7.0             0  \n",
              "\n",
              "[10 rows x 37 columns]"
            ],
            "text/html": [
              "\n",
              "  <div id=\"df-54402558-6265-47b2-ada7-f8ba7e790d67\" class=\"colab-df-container\">\n",
              "    <div>\n",
              "<style scoped>\n",
              "    .dataframe tbody tr th:only-of-type {\n",
              "        vertical-align: middle;\n",
              "    }\n",
              "\n",
              "    .dataframe tbody tr th {\n",
              "        vertical-align: top;\n",
              "    }\n",
              "\n",
              "    .dataframe thead th {\n",
              "        text-align: right;\n",
              "    }\n",
              "</style>\n",
              "<table border=\"1\" class=\"dataframe\">\n",
              "  <thead>\n",
              "    <tr style=\"text-align: right;\">\n",
              "      <th></th>\n",
              "      <th>ID</th>\n",
              "      <th>SEMESTER</th>\n",
              "      <th>MAJOR</th>\n",
              "      <th>ESTATUS</th>\n",
              "      <th>GENDER</th>\n",
              "      <th>ORIGIN</th>\n",
              "      <th>FIRSTPART_GRADE</th>\n",
              "      <th>SECONDPARTIAL_GRADE</th>\n",
              "      <th>FINALEXAM_GRADE</th>\n",
              "      <th>FINAL_GRADE</th>\n",
              "      <th>...</th>\n",
              "      <th>TEACHEREVAL_Q8</th>\n",
              "      <th>TEACHEREVAL_Q9</th>\n",
              "      <th>TEACHEREVAL_Q10</th>\n",
              "      <th>TEACHEREVAL_Q11</th>\n",
              "      <th>TEACHEREVAL_Q12</th>\n",
              "      <th>TEACHEREVAL_Q13</th>\n",
              "      <th>TEACHEREVAL_Q14</th>\n",
              "      <th>TEACHEREVAL_Q15</th>\n",
              "      <th>TEACHEREVAL_Q16</th>\n",
              "      <th>HONOR_FAULTS</th>\n",
              "    </tr>\n",
              "  </thead>\n",
              "  <tbody>\n",
              "    <tr>\n",
              "      <th>0</th>\n",
              "      <td>398471</td>\n",
              "      <td>8</td>\n",
              "      <td>Business</td>\n",
              "      <td>ENROLLED</td>\n",
              "      <td>FEMALE</td>\n",
              "      <td>Local</td>\n",
              "      <td>91.285714</td>\n",
              "      <td>89.285714</td>\n",
              "      <td>91.714286</td>\n",
              "      <td>85.428571</td>\n",
              "      <td>...</td>\n",
              "      <td>7.000000</td>\n",
              "      <td>7.000000</td>\n",
              "      <td>6.000000</td>\n",
              "      <td>6.750000</td>\n",
              "      <td>7.000000</td>\n",
              "      <td>6.5</td>\n",
              "      <td>6.75</td>\n",
              "      <td>6.75</td>\n",
              "      <td>7.0</td>\n",
              "      <td>0</td>\n",
              "    </tr>\n",
              "    <tr>\n",
              "      <th>1</th>\n",
              "      <td>804181</td>\n",
              "      <td>5</td>\n",
              "      <td>Engineering</td>\n",
              "      <td>ENROLLED</td>\n",
              "      <td>MALE</td>\n",
              "      <td>Local</td>\n",
              "      <td>89.111111</td>\n",
              "      <td>92.555556</td>\n",
              "      <td>92.444444</td>\n",
              "      <td>91.444444</td>\n",
              "      <td>...</td>\n",
              "      <td>7.000000</td>\n",
              "      <td>7.000000</td>\n",
              "      <td>7.000000</td>\n",
              "      <td>7.000000</td>\n",
              "      <td>7.000000</td>\n",
              "      <td>7.0</td>\n",
              "      <td>7.00</td>\n",
              "      <td>7.00</td>\n",
              "      <td>7.0</td>\n",
              "      <td>0</td>\n",
              "    </tr>\n",
              "    <tr>\n",
              "      <th>2</th>\n",
              "      <td>431091</td>\n",
              "      <td>1</td>\n",
              "      <td>Psychology</td>\n",
              "      <td>NOT ENROLLED</td>\n",
              "      <td>FEMALE</td>\n",
              "      <td>Foreign</td>\n",
              "      <td>98.545455</td>\n",
              "      <td>96.909091</td>\n",
              "      <td>98.363636</td>\n",
              "      <td>99.090909</td>\n",
              "      <td>...</td>\n",
              "      <td>6.000000</td>\n",
              "      <td>6.285714</td>\n",
              "      <td>6.142857</td>\n",
              "      <td>6.142857</td>\n",
              "      <td>6.142857</td>\n",
              "      <td>6.0</td>\n",
              "      <td>6.00</td>\n",
              "      <td>6.00</td>\n",
              "      <td>6.0</td>\n",
              "      <td>0</td>\n",
              "    </tr>\n",
              "    <tr>\n",
              "      <th>3</th>\n",
              "      <td>741091</td>\n",
              "      <td>6</td>\n",
              "      <td>Engineering</td>\n",
              "      <td>ENROLLED</td>\n",
              "      <td>FEMALE</td>\n",
              "      <td>Local</td>\n",
              "      <td>89.555556</td>\n",
              "      <td>84.888889</td>\n",
              "      <td>90.777778</td>\n",
              "      <td>97.444444</td>\n",
              "      <td>...</td>\n",
              "      <td>7.000000</td>\n",
              "      <td>7.000000</td>\n",
              "      <td>7.000000</td>\n",
              "      <td>7.000000</td>\n",
              "      <td>7.000000</td>\n",
              "      <td>7.0</td>\n",
              "      <td>7.00</td>\n",
              "      <td>7.00</td>\n",
              "      <td>7.0</td>\n",
              "      <td>0</td>\n",
              "    </tr>\n",
              "    <tr>\n",
              "      <th>4</th>\n",
              "      <td>274091</td>\n",
              "      <td>1</td>\n",
              "      <td>Industrial Design</td>\n",
              "      <td>ENROLLED</td>\n",
              "      <td>FEMALE</td>\n",
              "      <td>Local</td>\n",
              "      <td>83.300000</td>\n",
              "      <td>80.200000</td>\n",
              "      <td>79.800000</td>\n",
              "      <td>72.000000</td>\n",
              "      <td>...</td>\n",
              "      <td>7.000000</td>\n",
              "      <td>7.000000</td>\n",
              "      <td>7.000000</td>\n",
              "      <td>7.000000</td>\n",
              "      <td>7.000000</td>\n",
              "      <td>7.0</td>\n",
              "      <td>7.00</td>\n",
              "      <td>7.00</td>\n",
              "      <td>7.0</td>\n",
              "      <td>0</td>\n",
              "    </tr>\n",
              "    <tr>\n",
              "      <th>5</th>\n",
              "      <td>575091</td>\n",
              "      <td>1</td>\n",
              "      <td>Economics</td>\n",
              "      <td>ENROLLED</td>\n",
              "      <td>FEMALE</td>\n",
              "      <td>Local</td>\n",
              "      <td>70.428571</td>\n",
              "      <td>76.416667</td>\n",
              "      <td>83.583333</td>\n",
              "      <td>83.500000</td>\n",
              "      <td>...</td>\n",
              "      <td>6.714286</td>\n",
              "      <td>7.000000</td>\n",
              "      <td>7.000000</td>\n",
              "      <td>7.000000</td>\n",
              "      <td>7.000000</td>\n",
              "      <td>7.0</td>\n",
              "      <td>7.00</td>\n",
              "      <td>7.00</td>\n",
              "      <td>7.0</td>\n",
              "      <td>0</td>\n",
              "    </tr>\n",
              "    <tr>\n",
              "      <th>6</th>\n",
              "      <td>806091</td>\n",
              "      <td>8</td>\n",
              "      <td>Physics</td>\n",
              "      <td>ENROLLED</td>\n",
              "      <td>MALE</td>\n",
              "      <td>Local</td>\n",
              "      <td>93.750000</td>\n",
              "      <td>95.125000</td>\n",
              "      <td>93.125000</td>\n",
              "      <td>86.625000</td>\n",
              "      <td>...</td>\n",
              "      <td>7.000000</td>\n",
              "      <td>7.000000</td>\n",
              "      <td>7.000000</td>\n",
              "      <td>7.000000</td>\n",
              "      <td>7.000000</td>\n",
              "      <td>7.0</td>\n",
              "      <td>7.00</td>\n",
              "      <td>7.00</td>\n",
              "      <td>7.0</td>\n",
              "      <td>0</td>\n",
              "    </tr>\n",
              "    <tr>\n",
              "      <th>7</th>\n",
              "      <td>336091</td>\n",
              "      <td>1</td>\n",
              "      <td>Engineering Management</td>\n",
              "      <td>ENROLLED</td>\n",
              "      <td>FEMALE</td>\n",
              "      <td>Local</td>\n",
              "      <td>98.250000</td>\n",
              "      <td>96.500000</td>\n",
              "      <td>96.166667</td>\n",
              "      <td>92.750000</td>\n",
              "      <td>...</td>\n",
              "      <td>7.000000</td>\n",
              "      <td>7.000000</td>\n",
              "      <td>7.000000</td>\n",
              "      <td>7.000000</td>\n",
              "      <td>7.000000</td>\n",
              "      <td>7.0</td>\n",
              "      <td>7.00</td>\n",
              "      <td>7.00</td>\n",
              "      <td>7.0</td>\n",
              "      <td>0</td>\n",
              "    </tr>\n",
              "    <tr>\n",
              "      <th>8</th>\n",
              "      <td>697091</td>\n",
              "      <td>4</td>\n",
              "      <td>Architecture</td>\n",
              "      <td>ENROLLED</td>\n",
              "      <td>FEMALE</td>\n",
              "      <td>Local</td>\n",
              "      <td>96.428571</td>\n",
              "      <td>96.285714</td>\n",
              "      <td>97.285714</td>\n",
              "      <td>94.714286</td>\n",
              "      <td>...</td>\n",
              "      <td>7.000000</td>\n",
              "      <td>7.000000</td>\n",
              "      <td>7.000000</td>\n",
              "      <td>7.000000</td>\n",
              "      <td>7.000000</td>\n",
              "      <td>7.0</td>\n",
              "      <td>7.00</td>\n",
              "      <td>7.00</td>\n",
              "      <td>7.0</td>\n",
              "      <td>0</td>\n",
              "    </tr>\n",
              "    <tr>\n",
              "      <th>9</th>\n",
              "      <td>538091</td>\n",
              "      <td>1</td>\n",
              "      <td>Industrial Design</td>\n",
              "      <td>ENROLLED</td>\n",
              "      <td>FEMALE</td>\n",
              "      <td>Local</td>\n",
              "      <td>95.285714</td>\n",
              "      <td>96.428571</td>\n",
              "      <td>95.857143</td>\n",
              "      <td>94.428571</td>\n",
              "      <td>...</td>\n",
              "      <td>7.000000</td>\n",
              "      <td>7.000000</td>\n",
              "      <td>7.000000</td>\n",
              "      <td>7.000000</td>\n",
              "      <td>7.000000</td>\n",
              "      <td>7.0</td>\n",
              "      <td>7.00</td>\n",
              "      <td>7.00</td>\n",
              "      <td>7.0</td>\n",
              "      <td>0</td>\n",
              "    </tr>\n",
              "  </tbody>\n",
              "</table>\n",
              "<p>10 rows × 37 columns</p>\n",
              "</div>\n",
              "    <div class=\"colab-df-buttons\">\n",
              "\n",
              "  <div class=\"colab-df-container\">\n",
              "    <button class=\"colab-df-convert\" onclick=\"convertToInteractive('df-54402558-6265-47b2-ada7-f8ba7e790d67')\"\n",
              "            title=\"Convert this dataframe to an interactive table.\"\n",
              "            style=\"display:none;\">\n",
              "\n",
              "  <svg xmlns=\"http://www.w3.org/2000/svg\" height=\"24px\" viewBox=\"0 -960 960 960\">\n",
              "    <path d=\"M120-120v-720h720v720H120Zm60-500h600v-160H180v160Zm220 220h160v-160H400v160Zm0 220h160v-160H400v160ZM180-400h160v-160H180v160Zm440 0h160v-160H620v160ZM180-180h160v-160H180v160Zm440 0h160v-160H620v160Z\"/>\n",
              "  </svg>\n",
              "    </button>\n",
              "\n",
              "  <style>\n",
              "    .colab-df-container {\n",
              "      display:flex;\n",
              "      gap: 12px;\n",
              "    }\n",
              "\n",
              "    .colab-df-convert {\n",
              "      background-color: #E8F0FE;\n",
              "      border: none;\n",
              "      border-radius: 50%;\n",
              "      cursor: pointer;\n",
              "      display: none;\n",
              "      fill: #1967D2;\n",
              "      height: 32px;\n",
              "      padding: 0 0 0 0;\n",
              "      width: 32px;\n",
              "    }\n",
              "\n",
              "    .colab-df-convert:hover {\n",
              "      background-color: #E2EBFA;\n",
              "      box-shadow: 0px 1px 2px rgba(60, 64, 67, 0.3), 0px 1px 3px 1px rgba(60, 64, 67, 0.15);\n",
              "      fill: #174EA6;\n",
              "    }\n",
              "\n",
              "    .colab-df-buttons div {\n",
              "      margin-bottom: 4px;\n",
              "    }\n",
              "\n",
              "    [theme=dark] .colab-df-convert {\n",
              "      background-color: #3B4455;\n",
              "      fill: #D2E3FC;\n",
              "    }\n",
              "\n",
              "    [theme=dark] .colab-df-convert:hover {\n",
              "      background-color: #434B5C;\n",
              "      box-shadow: 0px 1px 3px 1px rgba(0, 0, 0, 0.15);\n",
              "      filter: drop-shadow(0px 1px 2px rgba(0, 0, 0, 0.3));\n",
              "      fill: #FFFFFF;\n",
              "    }\n",
              "  </style>\n",
              "\n",
              "    <script>\n",
              "      const buttonEl =\n",
              "        document.querySelector('#df-54402558-6265-47b2-ada7-f8ba7e790d67 button.colab-df-convert');\n",
              "      buttonEl.style.display =\n",
              "        google.colab.kernel.accessAllowed ? 'block' : 'none';\n",
              "\n",
              "      async function convertToInteractive(key) {\n",
              "        const element = document.querySelector('#df-54402558-6265-47b2-ada7-f8ba7e790d67');\n",
              "        const dataTable =\n",
              "          await google.colab.kernel.invokeFunction('convertToInteractive',\n",
              "                                                    [key], {});\n",
              "        if (!dataTable) return;\n",
              "\n",
              "        const docLinkHtml = 'Like what you see? Visit the ' +\n",
              "          '<a target=\"_blank\" href=https://colab.research.google.com/notebooks/data_table.ipynb>data table notebook</a>'\n",
              "          + ' to learn more about interactive tables.';\n",
              "        element.innerHTML = '';\n",
              "        dataTable['output_type'] = 'display_data';\n",
              "        await google.colab.output.renderOutput(dataTable, element);\n",
              "        const docLink = document.createElement('div');\n",
              "        docLink.innerHTML = docLinkHtml;\n",
              "        element.appendChild(docLink);\n",
              "      }\n",
              "    </script>\n",
              "  </div>\n",
              "\n",
              "\n",
              "<div id=\"df-e62879e4-129b-4caf-a7c3-74d2723281d9\">\n",
              "  <button class=\"colab-df-quickchart\" onclick=\"quickchart('df-e62879e4-129b-4caf-a7c3-74d2723281d9')\"\n",
              "            title=\"Suggest charts\"\n",
              "            style=\"display:none;\">\n",
              "\n",
              "<svg xmlns=\"http://www.w3.org/2000/svg\" height=\"24px\"viewBox=\"0 0 24 24\"\n",
              "     width=\"24px\">\n",
              "    <g>\n",
              "        <path d=\"M19 3H5c-1.1 0-2 .9-2 2v14c0 1.1.9 2 2 2h14c1.1 0 2-.9 2-2V5c0-1.1-.9-2-2-2zM9 17H7v-7h2v7zm4 0h-2V7h2v10zm4 0h-2v-4h2v4z\"/>\n",
              "    </g>\n",
              "</svg>\n",
              "  </button>\n",
              "\n",
              "<style>\n",
              "  .colab-df-quickchart {\n",
              "      --bg-color: #E8F0FE;\n",
              "      --fill-color: #1967D2;\n",
              "      --hover-bg-color: #E2EBFA;\n",
              "      --hover-fill-color: #174EA6;\n",
              "      --disabled-fill-color: #AAA;\n",
              "      --disabled-bg-color: #DDD;\n",
              "  }\n",
              "\n",
              "  [theme=dark] .colab-df-quickchart {\n",
              "      --bg-color: #3B4455;\n",
              "      --fill-color: #D2E3FC;\n",
              "      --hover-bg-color: #434B5C;\n",
              "      --hover-fill-color: #FFFFFF;\n",
              "      --disabled-bg-color: #3B4455;\n",
              "      --disabled-fill-color: #666;\n",
              "  }\n",
              "\n",
              "  .colab-df-quickchart {\n",
              "    background-color: var(--bg-color);\n",
              "    border: none;\n",
              "    border-radius: 50%;\n",
              "    cursor: pointer;\n",
              "    display: none;\n",
              "    fill: var(--fill-color);\n",
              "    height: 32px;\n",
              "    padding: 0;\n",
              "    width: 32px;\n",
              "  }\n",
              "\n",
              "  .colab-df-quickchart:hover {\n",
              "    background-color: var(--hover-bg-color);\n",
              "    box-shadow: 0 1px 2px rgba(60, 64, 67, 0.3), 0 1px 3px 1px rgba(60, 64, 67, 0.15);\n",
              "    fill: var(--button-hover-fill-color);\n",
              "  }\n",
              "\n",
              "  .colab-df-quickchart-complete:disabled,\n",
              "  .colab-df-quickchart-complete:disabled:hover {\n",
              "    background-color: var(--disabled-bg-color);\n",
              "    fill: var(--disabled-fill-color);\n",
              "    box-shadow: none;\n",
              "  }\n",
              "\n",
              "  .colab-df-spinner {\n",
              "    border: 2px solid var(--fill-color);\n",
              "    border-color: transparent;\n",
              "    border-bottom-color: var(--fill-color);\n",
              "    animation:\n",
              "      spin 1s steps(1) infinite;\n",
              "  }\n",
              "\n",
              "  @keyframes spin {\n",
              "    0% {\n",
              "      border-color: transparent;\n",
              "      border-bottom-color: var(--fill-color);\n",
              "      border-left-color: var(--fill-color);\n",
              "    }\n",
              "    20% {\n",
              "      border-color: transparent;\n",
              "      border-left-color: var(--fill-color);\n",
              "      border-top-color: var(--fill-color);\n",
              "    }\n",
              "    30% {\n",
              "      border-color: transparent;\n",
              "      border-left-color: var(--fill-color);\n",
              "      border-top-color: var(--fill-color);\n",
              "      border-right-color: var(--fill-color);\n",
              "    }\n",
              "    40% {\n",
              "      border-color: transparent;\n",
              "      border-right-color: var(--fill-color);\n",
              "      border-top-color: var(--fill-color);\n",
              "    }\n",
              "    60% {\n",
              "      border-color: transparent;\n",
              "      border-right-color: var(--fill-color);\n",
              "    }\n",
              "    80% {\n",
              "      border-color: transparent;\n",
              "      border-right-color: var(--fill-color);\n",
              "      border-bottom-color: var(--fill-color);\n",
              "    }\n",
              "    90% {\n",
              "      border-color: transparent;\n",
              "      border-bottom-color: var(--fill-color);\n",
              "    }\n",
              "  }\n",
              "</style>\n",
              "\n",
              "  <script>\n",
              "    async function quickchart(key) {\n",
              "      const quickchartButtonEl =\n",
              "        document.querySelector('#' + key + ' button');\n",
              "      quickchartButtonEl.disabled = true;  // To prevent multiple clicks.\n",
              "      quickchartButtonEl.classList.add('colab-df-spinner');\n",
              "      try {\n",
              "        const charts = await google.colab.kernel.invokeFunction(\n",
              "            'suggestCharts', [key], {});\n",
              "      } catch (error) {\n",
              "        console.error('Error during call to suggestCharts:', error);\n",
              "      }\n",
              "      quickchartButtonEl.classList.remove('colab-df-spinner');\n",
              "      quickchartButtonEl.classList.add('colab-df-quickchart-complete');\n",
              "    }\n",
              "    (() => {\n",
              "      let quickchartButtonEl =\n",
              "        document.querySelector('#df-e62879e4-129b-4caf-a7c3-74d2723281d9 button');\n",
              "      quickchartButtonEl.style.display =\n",
              "        google.colab.kernel.accessAllowed ? 'block' : 'none';\n",
              "    })();\n",
              "  </script>\n",
              "</div>\n",
              "    </div>\n",
              "  </div>\n"
            ],
            "application/vnd.google.colaboratory.intrinsic+json": {
              "type": "dataframe",
              "variable_name": "df"
            }
          },
          "metadata": {},
          "execution_count": 5
        }
      ],
      "source": [
        "# Display the first few rows of the dataframe to understand its structur\n",
        "df.head(10)"
      ]
    },
    {
      "cell_type": "code",
      "execution_count": 6,
      "id": "e225003d",
      "metadata": {
        "colab": {
          "base_uri": "https://localhost:8080/"
        },
        "id": "e225003d",
        "outputId": "8d5e406b-8ef2-47f5-9150-47a88b4be676"
      },
      "outputs": [
        {
          "output_type": "execute_result",
          "data": {
            "text/plain": [
              "ID                           int64\n",
              "SEMESTER                     int64\n",
              "MAJOR                       object\n",
              "ESTATUS                     object\n",
              "GENDER                      object\n",
              "ORIGIN                      object\n",
              "FIRSTPART_GRADE            float64\n",
              "SECONDPARTIAL_GRADE        float64\n",
              "FINALEXAM_GRADE            float64\n",
              "FINAL_GRADE                float64\n",
              "ABSENCES_FIRSTPARTIAL      float64\n",
              "ABSENCES_SECONDPARTIAL     float64\n",
              "ABSENCES_THIRDDPARTIAL     float64\n",
              "NUMCOURSES_ONLINE            int64\n",
              "SCHOLARSHIP_PERCENT        float64\n",
              "PASTDUE_BALANCE            float64\n",
              "NUMBSESSIONS_ADVISORY        int64\n",
              "NUMBSESSIONS_COUNSELING      int64\n",
              "TUTORINGMATH_SESSIONS        int64\n",
              "FORMATIVEPLAN_Q5             int64\n",
              "TEACHEREVAL_Q1             float64\n",
              "TEACHEREVAL_Q2             float64\n",
              "TEACHEREVAL_Q3             float64\n",
              "TEACHEREVAL_Q4             float64\n",
              "TEACHEREVAL_Q5             float64\n",
              "TEACHEREVAL_Q6             float64\n",
              "TEACHEREVAL_Q7             float64\n",
              "TEACHEREVAL_Q8             float64\n",
              "TEACHEREVAL_Q9             float64\n",
              "TEACHEREVAL_Q10            float64\n",
              "TEACHEREVAL_Q11            float64\n",
              "TEACHEREVAL_Q12            float64\n",
              "TEACHEREVAL_Q13            float64\n",
              "TEACHEREVAL_Q14            float64\n",
              "TEACHEREVAL_Q15            float64\n",
              "TEACHEREVAL_Q16            float64\n",
              "HONOR_FAULTS                 int64\n",
              "dtype: object"
            ]
          },
          "metadata": {},
          "execution_count": 6
        }
      ],
      "source": [
        "# Display the data types of each column\n",
        "df.dtypes"
      ]
    },
    {
      "cell_type": "markdown",
      "id": "547ef895",
      "metadata": {
        "id": "547ef895"
      },
      "source": [
        "# Variables Table\n",
        "The dataset consists of a range of variables, each offering unique insights:"
      ]
    },
    {
      "cell_type": "code",
      "execution_count": 7,
      "id": "2a15e945",
      "metadata": {
        "colab": {
          "base_uri": "https://localhost:8080/",
          "height": 1000
        },
        "id": "2a15e945",
        "outputId": "f87074a5-a868-4be9-b7ea-9219444b87c1"
      },
      "outputs": [
        {
          "output_type": "execute_result",
          "data": {
            "text/plain": [
              "              Variable Name Measurement Type        Role\n",
              "0                        ID          Nominal  Identifier\n",
              "1                  SEMESTER          Ordinal   Predictor\n",
              "2                     MAJOR          Nominal   Predictor\n",
              "3                   ESTATUS          Nominal     Outcome\n",
              "4                    GENDER          Nominal   Predictor\n",
              "5                    ORIGIN          Nominal   Predictor\n",
              "6           FIRSTPART_GRADE            Ratio   Predictor\n",
              "7       SECONDPARTIAL_GRADE            Ratio   Predictor\n",
              "8           FINALEXAM_GRADE            Ratio   Predictor\n",
              "9               FINAL_GRADE            Ratio     Outcome\n",
              "10    ABSENCES_FIRSTPARTIAL            Ratio   Predictor\n",
              "11   ABSENCES_SECONDPARTIAL            Ratio   Predictor\n",
              "12   ABSENCES_THIRDDPARTIAL            Ratio   Predictor\n",
              "13        NUMCOURSES_ONLINE            Ratio   Predictor\n",
              "14      SCHOLARSHIP_PERCENT            Ratio   Predictor\n",
              "15          PASTDUE_BALANCE            Ratio   Predictor\n",
              "16    NUMBSESSIONS_ADVISORY            Ratio   Predictor\n",
              "17  NUMBSESSIONS_COUNSELING            Ratio   Predictor\n",
              "18    TUTORINGMATH_SESSIONS            Ratio   Predictor\n",
              "19         FORMATIVEPLAN_Q5          Ordinal   Predictor\n",
              "20           TEACHEREVAL_Q1          Ordinal   Predictor\n",
              "21           TEACHEREVAL_Q2          Ordinal   Predictor\n",
              "22           TEACHEREVAL_Q3          Ordinal   Predictor\n",
              "23           TEACHEREVAL_Q4          Ordinal   Predictor\n",
              "24           TEACHEREVAL_Q5          Ordinal   Predictor\n",
              "25           TEACHEREVAL_Q6          Ordinal   Predictor\n",
              "26           TEACHEREVAL_Q7          Ordinal   Predictor\n",
              "27           TEACHEREVAL_Q8          Ordinal   Predictor\n",
              "28           TEACHEREVAL_Q9          Ordinal   Predictor\n",
              "29          TEACHEREVAL_Q10          Ordinal   Predictor\n",
              "30          TEACHEREVAL_Q11          Ordinal   Predictor\n",
              "31          TEACHEREVAL_Q12          Ordinal   Predictor\n",
              "32          TEACHEREVAL_Q13          Ordinal   Predictor\n",
              "33          TEACHEREVAL_Q14          Ordinal   Predictor\n",
              "34          TEACHEREVAL_Q15          Ordinal   Predictor\n",
              "35          TEACHEREVAL_Q16          Ordinal   Predictor\n",
              "36             HONOR_FAULTS            Ratio   Predictor"
            ],
            "text/html": [
              "\n",
              "  <div id=\"df-44d237d9-8b3e-4200-bfee-f96b38ae4757\" class=\"colab-df-container\">\n",
              "    <div>\n",
              "<style scoped>\n",
              "    .dataframe tbody tr th:only-of-type {\n",
              "        vertical-align: middle;\n",
              "    }\n",
              "\n",
              "    .dataframe tbody tr th {\n",
              "        vertical-align: top;\n",
              "    }\n",
              "\n",
              "    .dataframe thead th {\n",
              "        text-align: right;\n",
              "    }\n",
              "</style>\n",
              "<table border=\"1\" class=\"dataframe\">\n",
              "  <thead>\n",
              "    <tr style=\"text-align: right;\">\n",
              "      <th></th>\n",
              "      <th>Variable Name</th>\n",
              "      <th>Measurement Type</th>\n",
              "      <th>Role</th>\n",
              "    </tr>\n",
              "  </thead>\n",
              "  <tbody>\n",
              "    <tr>\n",
              "      <th>0</th>\n",
              "      <td>ID</td>\n",
              "      <td>Nominal</td>\n",
              "      <td>Identifier</td>\n",
              "    </tr>\n",
              "    <tr>\n",
              "      <th>1</th>\n",
              "      <td>SEMESTER</td>\n",
              "      <td>Ordinal</td>\n",
              "      <td>Predictor</td>\n",
              "    </tr>\n",
              "    <tr>\n",
              "      <th>2</th>\n",
              "      <td>MAJOR</td>\n",
              "      <td>Nominal</td>\n",
              "      <td>Predictor</td>\n",
              "    </tr>\n",
              "    <tr>\n",
              "      <th>3</th>\n",
              "      <td>ESTATUS</td>\n",
              "      <td>Nominal</td>\n",
              "      <td>Outcome</td>\n",
              "    </tr>\n",
              "    <tr>\n",
              "      <th>4</th>\n",
              "      <td>GENDER</td>\n",
              "      <td>Nominal</td>\n",
              "      <td>Predictor</td>\n",
              "    </tr>\n",
              "    <tr>\n",
              "      <th>5</th>\n",
              "      <td>ORIGIN</td>\n",
              "      <td>Nominal</td>\n",
              "      <td>Predictor</td>\n",
              "    </tr>\n",
              "    <tr>\n",
              "      <th>6</th>\n",
              "      <td>FIRSTPART_GRADE</td>\n",
              "      <td>Ratio</td>\n",
              "      <td>Predictor</td>\n",
              "    </tr>\n",
              "    <tr>\n",
              "      <th>7</th>\n",
              "      <td>SECONDPARTIAL_GRADE</td>\n",
              "      <td>Ratio</td>\n",
              "      <td>Predictor</td>\n",
              "    </tr>\n",
              "    <tr>\n",
              "      <th>8</th>\n",
              "      <td>FINALEXAM_GRADE</td>\n",
              "      <td>Ratio</td>\n",
              "      <td>Predictor</td>\n",
              "    </tr>\n",
              "    <tr>\n",
              "      <th>9</th>\n",
              "      <td>FINAL_GRADE</td>\n",
              "      <td>Ratio</td>\n",
              "      <td>Outcome</td>\n",
              "    </tr>\n",
              "    <tr>\n",
              "      <th>10</th>\n",
              "      <td>ABSENCES_FIRSTPARTIAL</td>\n",
              "      <td>Ratio</td>\n",
              "      <td>Predictor</td>\n",
              "    </tr>\n",
              "    <tr>\n",
              "      <th>11</th>\n",
              "      <td>ABSENCES_SECONDPARTIAL</td>\n",
              "      <td>Ratio</td>\n",
              "      <td>Predictor</td>\n",
              "    </tr>\n",
              "    <tr>\n",
              "      <th>12</th>\n",
              "      <td>ABSENCES_THIRDDPARTIAL</td>\n",
              "      <td>Ratio</td>\n",
              "      <td>Predictor</td>\n",
              "    </tr>\n",
              "    <tr>\n",
              "      <th>13</th>\n",
              "      <td>NUMCOURSES_ONLINE</td>\n",
              "      <td>Ratio</td>\n",
              "      <td>Predictor</td>\n",
              "    </tr>\n",
              "    <tr>\n",
              "      <th>14</th>\n",
              "      <td>SCHOLARSHIP_PERCENT</td>\n",
              "      <td>Ratio</td>\n",
              "      <td>Predictor</td>\n",
              "    </tr>\n",
              "    <tr>\n",
              "      <th>15</th>\n",
              "      <td>PASTDUE_BALANCE</td>\n",
              "      <td>Ratio</td>\n",
              "      <td>Predictor</td>\n",
              "    </tr>\n",
              "    <tr>\n",
              "      <th>16</th>\n",
              "      <td>NUMBSESSIONS_ADVISORY</td>\n",
              "      <td>Ratio</td>\n",
              "      <td>Predictor</td>\n",
              "    </tr>\n",
              "    <tr>\n",
              "      <th>17</th>\n",
              "      <td>NUMBSESSIONS_COUNSELING</td>\n",
              "      <td>Ratio</td>\n",
              "      <td>Predictor</td>\n",
              "    </tr>\n",
              "    <tr>\n",
              "      <th>18</th>\n",
              "      <td>TUTORINGMATH_SESSIONS</td>\n",
              "      <td>Ratio</td>\n",
              "      <td>Predictor</td>\n",
              "    </tr>\n",
              "    <tr>\n",
              "      <th>19</th>\n",
              "      <td>FORMATIVEPLAN_Q5</td>\n",
              "      <td>Ordinal</td>\n",
              "      <td>Predictor</td>\n",
              "    </tr>\n",
              "    <tr>\n",
              "      <th>20</th>\n",
              "      <td>TEACHEREVAL_Q1</td>\n",
              "      <td>Ordinal</td>\n",
              "      <td>Predictor</td>\n",
              "    </tr>\n",
              "    <tr>\n",
              "      <th>21</th>\n",
              "      <td>TEACHEREVAL_Q2</td>\n",
              "      <td>Ordinal</td>\n",
              "      <td>Predictor</td>\n",
              "    </tr>\n",
              "    <tr>\n",
              "      <th>22</th>\n",
              "      <td>TEACHEREVAL_Q3</td>\n",
              "      <td>Ordinal</td>\n",
              "      <td>Predictor</td>\n",
              "    </tr>\n",
              "    <tr>\n",
              "      <th>23</th>\n",
              "      <td>TEACHEREVAL_Q4</td>\n",
              "      <td>Ordinal</td>\n",
              "      <td>Predictor</td>\n",
              "    </tr>\n",
              "    <tr>\n",
              "      <th>24</th>\n",
              "      <td>TEACHEREVAL_Q5</td>\n",
              "      <td>Ordinal</td>\n",
              "      <td>Predictor</td>\n",
              "    </tr>\n",
              "    <tr>\n",
              "      <th>25</th>\n",
              "      <td>TEACHEREVAL_Q6</td>\n",
              "      <td>Ordinal</td>\n",
              "      <td>Predictor</td>\n",
              "    </tr>\n",
              "    <tr>\n",
              "      <th>26</th>\n",
              "      <td>TEACHEREVAL_Q7</td>\n",
              "      <td>Ordinal</td>\n",
              "      <td>Predictor</td>\n",
              "    </tr>\n",
              "    <tr>\n",
              "      <th>27</th>\n",
              "      <td>TEACHEREVAL_Q8</td>\n",
              "      <td>Ordinal</td>\n",
              "      <td>Predictor</td>\n",
              "    </tr>\n",
              "    <tr>\n",
              "      <th>28</th>\n",
              "      <td>TEACHEREVAL_Q9</td>\n",
              "      <td>Ordinal</td>\n",
              "      <td>Predictor</td>\n",
              "    </tr>\n",
              "    <tr>\n",
              "      <th>29</th>\n",
              "      <td>TEACHEREVAL_Q10</td>\n",
              "      <td>Ordinal</td>\n",
              "      <td>Predictor</td>\n",
              "    </tr>\n",
              "    <tr>\n",
              "      <th>30</th>\n",
              "      <td>TEACHEREVAL_Q11</td>\n",
              "      <td>Ordinal</td>\n",
              "      <td>Predictor</td>\n",
              "    </tr>\n",
              "    <tr>\n",
              "      <th>31</th>\n",
              "      <td>TEACHEREVAL_Q12</td>\n",
              "      <td>Ordinal</td>\n",
              "      <td>Predictor</td>\n",
              "    </tr>\n",
              "    <tr>\n",
              "      <th>32</th>\n",
              "      <td>TEACHEREVAL_Q13</td>\n",
              "      <td>Ordinal</td>\n",
              "      <td>Predictor</td>\n",
              "    </tr>\n",
              "    <tr>\n",
              "      <th>33</th>\n",
              "      <td>TEACHEREVAL_Q14</td>\n",
              "      <td>Ordinal</td>\n",
              "      <td>Predictor</td>\n",
              "    </tr>\n",
              "    <tr>\n",
              "      <th>34</th>\n",
              "      <td>TEACHEREVAL_Q15</td>\n",
              "      <td>Ordinal</td>\n",
              "      <td>Predictor</td>\n",
              "    </tr>\n",
              "    <tr>\n",
              "      <th>35</th>\n",
              "      <td>TEACHEREVAL_Q16</td>\n",
              "      <td>Ordinal</td>\n",
              "      <td>Predictor</td>\n",
              "    </tr>\n",
              "    <tr>\n",
              "      <th>36</th>\n",
              "      <td>HONOR_FAULTS</td>\n",
              "      <td>Ratio</td>\n",
              "      <td>Predictor</td>\n",
              "    </tr>\n",
              "  </tbody>\n",
              "</table>\n",
              "</div>\n",
              "    <div class=\"colab-df-buttons\">\n",
              "\n",
              "  <div class=\"colab-df-container\">\n",
              "    <button class=\"colab-df-convert\" onclick=\"convertToInteractive('df-44d237d9-8b3e-4200-bfee-f96b38ae4757')\"\n",
              "            title=\"Convert this dataframe to an interactive table.\"\n",
              "            style=\"display:none;\">\n",
              "\n",
              "  <svg xmlns=\"http://www.w3.org/2000/svg\" height=\"24px\" viewBox=\"0 -960 960 960\">\n",
              "    <path d=\"M120-120v-720h720v720H120Zm60-500h600v-160H180v160Zm220 220h160v-160H400v160Zm0 220h160v-160H400v160ZM180-400h160v-160H180v160Zm440 0h160v-160H620v160ZM180-180h160v-160H180v160Zm440 0h160v-160H620v160Z\"/>\n",
              "  </svg>\n",
              "    </button>\n",
              "\n",
              "  <style>\n",
              "    .colab-df-container {\n",
              "      display:flex;\n",
              "      gap: 12px;\n",
              "    }\n",
              "\n",
              "    .colab-df-convert {\n",
              "      background-color: #E8F0FE;\n",
              "      border: none;\n",
              "      border-radius: 50%;\n",
              "      cursor: pointer;\n",
              "      display: none;\n",
              "      fill: #1967D2;\n",
              "      height: 32px;\n",
              "      padding: 0 0 0 0;\n",
              "      width: 32px;\n",
              "    }\n",
              "\n",
              "    .colab-df-convert:hover {\n",
              "      background-color: #E2EBFA;\n",
              "      box-shadow: 0px 1px 2px rgba(60, 64, 67, 0.3), 0px 1px 3px 1px rgba(60, 64, 67, 0.15);\n",
              "      fill: #174EA6;\n",
              "    }\n",
              "\n",
              "    .colab-df-buttons div {\n",
              "      margin-bottom: 4px;\n",
              "    }\n",
              "\n",
              "    [theme=dark] .colab-df-convert {\n",
              "      background-color: #3B4455;\n",
              "      fill: #D2E3FC;\n",
              "    }\n",
              "\n",
              "    [theme=dark] .colab-df-convert:hover {\n",
              "      background-color: #434B5C;\n",
              "      box-shadow: 0px 1px 3px 1px rgba(0, 0, 0, 0.15);\n",
              "      filter: drop-shadow(0px 1px 2px rgba(0, 0, 0, 0.3));\n",
              "      fill: #FFFFFF;\n",
              "    }\n",
              "  </style>\n",
              "\n",
              "    <script>\n",
              "      const buttonEl =\n",
              "        document.querySelector('#df-44d237d9-8b3e-4200-bfee-f96b38ae4757 button.colab-df-convert');\n",
              "      buttonEl.style.display =\n",
              "        google.colab.kernel.accessAllowed ? 'block' : 'none';\n",
              "\n",
              "      async function convertToInteractive(key) {\n",
              "        const element = document.querySelector('#df-44d237d9-8b3e-4200-bfee-f96b38ae4757');\n",
              "        const dataTable =\n",
              "          await google.colab.kernel.invokeFunction('convertToInteractive',\n",
              "                                                    [key], {});\n",
              "        if (!dataTable) return;\n",
              "\n",
              "        const docLinkHtml = 'Like what you see? Visit the ' +\n",
              "          '<a target=\"_blank\" href=https://colab.research.google.com/notebooks/data_table.ipynb>data table notebook</a>'\n",
              "          + ' to learn more about interactive tables.';\n",
              "        element.innerHTML = '';\n",
              "        dataTable['output_type'] = 'display_data';\n",
              "        await google.colab.output.renderOutput(dataTable, element);\n",
              "        const docLink = document.createElement('div');\n",
              "        docLink.innerHTML = docLinkHtml;\n",
              "        element.appendChild(docLink);\n",
              "      }\n",
              "    </script>\n",
              "  </div>\n",
              "\n",
              "\n",
              "<div id=\"df-863b67a9-0ff7-40df-92c9-82b12d446721\">\n",
              "  <button class=\"colab-df-quickchart\" onclick=\"quickchart('df-863b67a9-0ff7-40df-92c9-82b12d446721')\"\n",
              "            title=\"Suggest charts\"\n",
              "            style=\"display:none;\">\n",
              "\n",
              "<svg xmlns=\"http://www.w3.org/2000/svg\" height=\"24px\"viewBox=\"0 0 24 24\"\n",
              "     width=\"24px\">\n",
              "    <g>\n",
              "        <path d=\"M19 3H5c-1.1 0-2 .9-2 2v14c0 1.1.9 2 2 2h14c1.1 0 2-.9 2-2V5c0-1.1-.9-2-2-2zM9 17H7v-7h2v7zm4 0h-2V7h2v10zm4 0h-2v-4h2v4z\"/>\n",
              "    </g>\n",
              "</svg>\n",
              "  </button>\n",
              "\n",
              "<style>\n",
              "  .colab-df-quickchart {\n",
              "      --bg-color: #E8F0FE;\n",
              "      --fill-color: #1967D2;\n",
              "      --hover-bg-color: #E2EBFA;\n",
              "      --hover-fill-color: #174EA6;\n",
              "      --disabled-fill-color: #AAA;\n",
              "      --disabled-bg-color: #DDD;\n",
              "  }\n",
              "\n",
              "  [theme=dark] .colab-df-quickchart {\n",
              "      --bg-color: #3B4455;\n",
              "      --fill-color: #D2E3FC;\n",
              "      --hover-bg-color: #434B5C;\n",
              "      --hover-fill-color: #FFFFFF;\n",
              "      --disabled-bg-color: #3B4455;\n",
              "      --disabled-fill-color: #666;\n",
              "  }\n",
              "\n",
              "  .colab-df-quickchart {\n",
              "    background-color: var(--bg-color);\n",
              "    border: none;\n",
              "    border-radius: 50%;\n",
              "    cursor: pointer;\n",
              "    display: none;\n",
              "    fill: var(--fill-color);\n",
              "    height: 32px;\n",
              "    padding: 0;\n",
              "    width: 32px;\n",
              "  }\n",
              "\n",
              "  .colab-df-quickchart:hover {\n",
              "    background-color: var(--hover-bg-color);\n",
              "    box-shadow: 0 1px 2px rgba(60, 64, 67, 0.3), 0 1px 3px 1px rgba(60, 64, 67, 0.15);\n",
              "    fill: var(--button-hover-fill-color);\n",
              "  }\n",
              "\n",
              "  .colab-df-quickchart-complete:disabled,\n",
              "  .colab-df-quickchart-complete:disabled:hover {\n",
              "    background-color: var(--disabled-bg-color);\n",
              "    fill: var(--disabled-fill-color);\n",
              "    box-shadow: none;\n",
              "  }\n",
              "\n",
              "  .colab-df-spinner {\n",
              "    border: 2px solid var(--fill-color);\n",
              "    border-color: transparent;\n",
              "    border-bottom-color: var(--fill-color);\n",
              "    animation:\n",
              "      spin 1s steps(1) infinite;\n",
              "  }\n",
              "\n",
              "  @keyframes spin {\n",
              "    0% {\n",
              "      border-color: transparent;\n",
              "      border-bottom-color: var(--fill-color);\n",
              "      border-left-color: var(--fill-color);\n",
              "    }\n",
              "    20% {\n",
              "      border-color: transparent;\n",
              "      border-left-color: var(--fill-color);\n",
              "      border-top-color: var(--fill-color);\n",
              "    }\n",
              "    30% {\n",
              "      border-color: transparent;\n",
              "      border-left-color: var(--fill-color);\n",
              "      border-top-color: var(--fill-color);\n",
              "      border-right-color: var(--fill-color);\n",
              "    }\n",
              "    40% {\n",
              "      border-color: transparent;\n",
              "      border-right-color: var(--fill-color);\n",
              "      border-top-color: var(--fill-color);\n",
              "    }\n",
              "    60% {\n",
              "      border-color: transparent;\n",
              "      border-right-color: var(--fill-color);\n",
              "    }\n",
              "    80% {\n",
              "      border-color: transparent;\n",
              "      border-right-color: var(--fill-color);\n",
              "      border-bottom-color: var(--fill-color);\n",
              "    }\n",
              "    90% {\n",
              "      border-color: transparent;\n",
              "      border-bottom-color: var(--fill-color);\n",
              "    }\n",
              "  }\n",
              "</style>\n",
              "\n",
              "  <script>\n",
              "    async function quickchart(key) {\n",
              "      const quickchartButtonEl =\n",
              "        document.querySelector('#' + key + ' button');\n",
              "      quickchartButtonEl.disabled = true;  // To prevent multiple clicks.\n",
              "      quickchartButtonEl.classList.add('colab-df-spinner');\n",
              "      try {\n",
              "        const charts = await google.colab.kernel.invokeFunction(\n",
              "            'suggestCharts', [key], {});\n",
              "      } catch (error) {\n",
              "        console.error('Error during call to suggestCharts:', error);\n",
              "      }\n",
              "      quickchartButtonEl.classList.remove('colab-df-spinner');\n",
              "      quickchartButtonEl.classList.add('colab-df-quickchart-complete');\n",
              "    }\n",
              "    (() => {\n",
              "      let quickchartButtonEl =\n",
              "        document.querySelector('#df-863b67a9-0ff7-40df-92c9-82b12d446721 button');\n",
              "      quickchartButtonEl.style.display =\n",
              "        google.colab.kernel.accessAllowed ? 'block' : 'none';\n",
              "    })();\n",
              "  </script>\n",
              "</div>\n",
              "    </div>\n",
              "  </div>\n"
            ],
            "application/vnd.google.colaboratory.intrinsic+json": {
              "type": "dataframe",
              "variable_name": "overview_table",
              "summary": "{\n  \"name\": \"overview_table\",\n  \"rows\": 37,\n  \"fields\": [\n    {\n      \"column\": \"Variable Name\",\n      \"properties\": {\n        \"dtype\": \"string\",\n        \"samples\": [\n          \"NUMBSESSIONS_COUNSELING\",\n          \"NUMCOURSES_ONLINE\",\n          \"GENDER\"\n        ],\n        \"num_unique_values\": 37,\n        \"semantic_type\": \"\",\n        \"description\": \"\"\n      }\n    },\n    {\n      \"column\": \"Measurement Type\",\n      \"properties\": {\n        \"dtype\": \"category\",\n        \"samples\": [\n          \"Nominal\",\n          \"Ordinal\",\n          \"Ratio\"\n        ],\n        \"num_unique_values\": 3,\n        \"semantic_type\": \"\",\n        \"description\": \"\"\n      }\n    },\n    {\n      \"column\": \"Role\",\n      \"properties\": {\n        \"dtype\": \"category\",\n        \"samples\": [\n          \"Identifier\",\n          \"Predictor\",\n          \"Outcome\"\n        ],\n        \"num_unique_values\": 3,\n        \"semantic_type\": \"\",\n        \"description\": \"\"\n      }\n    }\n  ]\n}"
            }
          },
          "metadata": {},
          "execution_count": 7
        }
      ],
      "source": [
        "# Overview of variables\n",
        "variables = ['ID', 'SEMESTER', 'MAJOR', 'ESTATUS', 'GENDER', 'ORIGIN',\n",
        "             'FIRSTPART_GRADE', 'SECONDPARTIAL_GRADE', 'FINALEXAM_GRADE',\n",
        "             'FINAL_GRADE', 'ABSENCES_FIRSTPARTIAL', 'ABSENCES_SECONDPARTIAL',\n",
        "             'ABSENCES_THIRDDPARTIAL', 'NUMCOURSES_ONLINE', 'SCHOLARSHIP_PERCENT',\n",
        "             'PASTDUE_BALANCE', 'NUMBSESSIONS_ADVISORY', 'NUMBSESSIONS_COUNSELING',\n",
        "             'TUTORINGMATH_SESSIONS', 'FORMATIVEPLAN_Q5', 'TEACHEREVAL_Q1',\n",
        "             'TEACHEREVAL_Q2', 'TEACHEREVAL_Q3', 'TEACHEREVAL_Q4', 'TEACHEREVAL_Q5',\n",
        "             'TEACHEREVAL_Q6', 'TEACHEREVAL_Q7', 'TEACHEREVAL_Q8', 'TEACHEREVAL_Q9',\n",
        "             'TEACHEREVAL_Q10', 'TEACHEREVAL_Q11', 'TEACHEREVAL_Q12', 'TEACHEREVAL_Q13',\n",
        "             'TEACHEREVAL_Q14', 'TEACHEREVAL_Q15', 'TEACHEREVAL_Q16', 'HONOR_FAULTS']\n",
        "\n",
        "# Creating the DataFrame for the overview\n",
        "overview_table = pd.DataFrame({\n",
        "    'Variable Name': variables,\n",
        "    'Measurement Type': ['Nominal', 'Ordinal', 'Nominal', 'Nominal', 'Nominal',\n",
        "                         'Nominal', 'Ratio', 'Ratio', 'Ratio', 'Ratio', 'Ratio',\n",
        "                         'Ratio', 'Ratio', 'Ratio', 'Ratio', 'Ratio', 'Ratio',\n",
        "                         'Ratio', 'Ratio', 'Ordinal', 'Ordinal', 'Ordinal',\n",
        "                         'Ordinal', 'Ordinal', 'Ordinal', 'Ordinal', 'Ordinal',\n",
        "                         'Ordinal', 'Ordinal', 'Ordinal', 'Ordinal', 'Ordinal',\n",
        "                         'Ordinal', 'Ordinal', 'Ordinal', 'Ordinal', 'Ratio'],\n",
        "    'Role': ['Identifier', 'Predictor', 'Predictor', 'Outcome', 'Predictor',\n",
        "             'Predictor', 'Predictor', 'Predictor', 'Predictor', 'Outcome',\n",
        "             'Predictor', 'Predictor', 'Predictor', 'Predictor', 'Predictor',\n",
        "             'Predictor', 'Predictor', 'Predictor', 'Predictor', 'Predictor',\n",
        "             'Predictor', 'Predictor', 'Predictor', 'Predictor', 'Predictor',\n",
        "             'Predictor', 'Predictor', 'Predictor', 'Predictor', 'Predictor',\n",
        "             'Predictor', 'Predictor', 'Predictor', 'Predictor', 'Predictor',\n",
        "             'Predictor', 'Predictor']\n",
        "})\n",
        "\n",
        "overview_table"
      ]
    },
    {
      "cell_type": "code",
      "execution_count": 8,
      "id": "664f4e32",
      "metadata": {
        "colab": {
          "base_uri": "https://localhost:8080/"
        },
        "id": "664f4e32",
        "outputId": "aae14e5a-a947-4cff-e505-143c692aa92b"
      },
      "outputs": [
        {
          "output_type": "stream",
          "name": "stdout",
          "text": [
            "\n",
            "Missing values in each column:\n",
            " ID                         0\n",
            "SEMESTER                   0\n",
            "MAJOR                      0\n",
            "ESTATUS                    0\n",
            "GENDER                     0\n",
            "ORIGIN                     0\n",
            "FIRSTPART_GRADE            0\n",
            "SECONDPARTIAL_GRADE        0\n",
            "FINALEXAM_GRADE            0\n",
            "FINAL_GRADE                0\n",
            "ABSENCES_FIRSTPARTIAL      0\n",
            "ABSENCES_SECONDPARTIAL     0\n",
            "ABSENCES_THIRDDPARTIAL     0\n",
            "NUMCOURSES_ONLINE          0\n",
            "SCHOLARSHIP_PERCENT        0\n",
            "PASTDUE_BALANCE            0\n",
            "NUMBSESSIONS_ADVISORY      0\n",
            "NUMBSESSIONS_COUNSELING    0\n",
            "TUTORINGMATH_SESSIONS      0\n",
            "FORMATIVEPLAN_Q5           0\n",
            "TEACHEREVAL_Q1             0\n",
            "TEACHEREVAL_Q2             0\n",
            "TEACHEREVAL_Q3             0\n",
            "TEACHEREVAL_Q4             0\n",
            "TEACHEREVAL_Q5             0\n",
            "TEACHEREVAL_Q6             0\n",
            "TEACHEREVAL_Q7             0\n",
            "TEACHEREVAL_Q8             0\n",
            "TEACHEREVAL_Q9             0\n",
            "TEACHEREVAL_Q10            0\n",
            "TEACHEREVAL_Q11            0\n",
            "TEACHEREVAL_Q12            0\n",
            "TEACHEREVAL_Q13            0\n",
            "TEACHEREVAL_Q14            0\n",
            "TEACHEREVAL_Q15            0\n",
            "TEACHEREVAL_Q16            0\n",
            "HONOR_FAULTS               0\n",
            "dtype: int64\n"
          ]
        }
      ],
      "source": [
        "# Check for missing values in each column\n",
        "missing_values = df.isnull().sum()\n",
        "print(\"\\nMissing values in each column:\\n\", missing_values)"
      ]
    },
    {
      "cell_type": "markdown",
      "id": "d241a70b",
      "metadata": {
        "id": "d241a70b"
      },
      "source": [
        "# Industry Identification\n",
        "\n",
        "Industry Identification: Educational Sector\n",
        "The dataset holds a place of significant importance within the Educational sector. It emerges as an invaluable asset for college administration and academic research, offering a comprehensive view into the student experience in higher education. Key contributions of this dataset include:\n",
        "\n",
        "Enhancing Academic Performance Insights:\n",
        "\n",
        "\n",
        "The detailed academic data provided allows educational institutions to delve into the nuances of student performance. This insight is crucial for tailoring academic programs and support services to better meet student needs and improve academic outcomes.\n",
        "\n",
        "Uncovering Engagement Patterns:\n",
        "\n",
        "\n",
        "The dataset sheds light on how student engagement in various aspects of college life, including counseling and advisory services, correlates with academic success. This information is key to understanding and improving student participation and retention strategies.\n",
        "\n",
        "Identifying Retention Factors:\n",
        "\n",
        "\n",
        "By offering a broad spectrum of data points, from demographics to feedback on teaching quality, the dataset enables a holistic analysis of factors that influence student retention. This is particularly crucial for developing targeted interventions aimed at increasing student persistence and success in college.\n",
        "\n",
        "In essence, this dataset serves as a cornerstone for data-driven decision-making in the educational landscape. It equips college administrators and researchers with the tools to enhance student experiences, optimize educational strategies, and ultimately contribute to the success of the academic community."
      ]
    },
    {
      "cell_type": "code",
      "execution_count": 9,
      "id": "e8ffee87",
      "metadata": {
        "colab": {
          "base_uri": "https://localhost:8080/",
          "height": 562
        },
        "id": "e8ffee87",
        "outputId": "4ee5b75c-7159-442d-e4c9-2364e06b27b2"
      },
      "outputs": [
        {
          "output_type": "display_data",
          "data": {
            "text/plain": [
              "<Figure size 1000x600 with 1 Axes>"
            ],
            "image/png": "[encoded data removed]"
          },
          "metadata": {}
        }
      ],
      "source": [
        "# Histogram of SCHOLARSHIP_PERCENT\n",
        "plt.figure(figsize=(10, 6))\n",
        "sns.histplot(df['SCHOLARSHIP_PERCENT'], kde=True)\n",
        "plt.title('Histogram of Scholarship Percent')\n",
        "plt.show()"
      ]
    },
    {
      "cell_type": "markdown",
      "id": "e152e876",
      "metadata": {
        "id": "e152e876"
      },
      "source": [
        "# Research Questions\n",
        "The dataset guides the following research questions:\n",
        "\n",
        "1. How do academic performance metrics, such as grades and absences, correlate with student retention as indicated by ESTATUS?\n",
        "\n",
        "\n",
        "2. Can we predict student success based on their engagement in online courses, advisory, and counseling sessions?\n",
        "\n",
        "\n",
        "3. What impact do scholarship percentages, financial standing (PASTDUE_BALANCE), and teacher evaluations have on student performance and retention?"
      ]
    },
    {
      "cell_type": "code",
      "execution_count": 10,
      "id": "bcdfe907",
      "metadata": {
        "colab": {
          "base_uri": "https://localhost:8080/",
          "height": 563
        },
        "id": "bcdfe907",
        "outputId": "36aae200-f44c-41fb-95e0-52324bcccd8c"
      },
      "outputs": [
        {
          "output_type": "display_data",
          "data": {
            "text/plain": [
              "<Figure size 1000x600 with 1 Axes>"
            ],
            "image/png": "[encoded data removed]"
          },
          "metadata": {}
        }
      ],
      "source": [
        "# Scatter plot of PASTDUE_BALANCE vs FINAL_GRADE\n",
        "plt.figure(figsize=(10, 6))\n",
        "sns.scatterplot(x='PASTDUE_BALANCE', y='FINAL_GRADE', data=df)\n",
        "plt.title('Scatter Plot of Past Due Balance vs Final Grade')\n",
        "plt.show()"
      ]
    },
    {
      "cell_type": "code",
      "execution_count": 11,
      "id": "4902b5ee",
      "metadata": {
        "colab": {
          "base_uri": "https://localhost:8080/",
          "height": 654
        },
        "id": "4902b5ee",
        "outputId": "e04d0f6d-4600-4fb7-83c6-a72e41ee3eda"
      },
      "outputs": [
        {
          "output_type": "display_data",
          "data": {
            "text/plain": [
              "<Figure size 1000x600 with 1 Axes>"
            ],
            "image/png": "[encoded data removed]"
          },
          "metadata": {}
        }
      ],
      "source": [
        "# Bar plot for MAJOR\n",
        "plt.figure(figsize=(10, 6))\n",
        "sns.countplot(x='MAJOR', data=df)\n",
        "plt.title('Count of Majors')\n",
        "plt.xticks(rotation=45)\n",
        "plt.show()"
      ]
    },
    {
      "cell_type": "code",
      "execution_count": 13,
      "id": "2192cf0e",
      "metadata": {
        "colab": {
          "base_uri": "https://localhost:8080/"
        },
        "id": "2192cf0e",
        "outputId": "3506df99-9d75-46a2-d08e-f93f3960e91d"
      },
      "outputs": [
        {
          "output_type": "stream",
          "name": "stdout",
          "text": [
            "\n",
            "Counts in SEMESTER column:\n",
            " 1     1907\n",
            "4     1097\n",
            "6      826\n",
            "7      633\n",
            "8      480\n",
            "5      461\n",
            "9      412\n",
            "3      385\n",
            "10     337\n",
            "2       58\n",
            "11       1\n",
            "Name: SEMESTER, dtype: int64\n"
          ]
        }
      ],
      "source": [
        "# Frequency counts for SEMESTER\n",
        "semester_counts = df['SEMESTER'].value_counts()\n",
        "print(\"\\nCounts in SEMESTER column:\\n\", semester_counts)"
      ]
    },
    {
      "cell_type": "markdown",
      "id": "81c2804c",
      "metadata": {
        "id": "81c2804c"
      },
      "source": [
        "# Preliminary Exploratory Analysis\n",
        "Missing Values & Anomalies:\n",
        "\n",
        "The presence of missing values in several columns necessitates thorough data cleaning. These gaps, particularly in academic performance metrics, can significantly impact the analysis and interpretation of factors affecting student success.\n",
        "\n",
        "Variable Roles Rationale:\n",
        "\n",
        "Identification variables like ID are crucial for individual record tracking and are thus excluded from predictive modeling.\n",
        "Variables such as SEMESTER, MAJOR, GENDER, grades, and ABSENCES_* are pivotal predictors, offering insights into student performance trends and retention factors.\n",
        "\n",
        "\n",
        "ESTATUS is a key outcome variable, representing the retention status of students.\n"
      ]
    },
    {
      "cell_type": "markdown",
      "source": [
        "Transforming DATA"
      ],
      "metadata": {
        "id": "4yaUarWKWdqS"
      },
      "id": "4yaUarWKWdqS"
    },
    {
      "cell_type": "code",
      "source": [
        "# Transform FINALEXAM_GRADE into a binary outcome variable\n",
        "df['Academic_Success'] = (df['FINALEXAM_GRADE'] >= 94).astype(int)"
      ],
      "metadata": {
        "id": "ToEu_2p6Pb-W"
      },
      "id": "ToEu_2p6Pb-W",
      "execution_count": 14,
      "outputs": []
    },
    {
      "cell_type": "code",
      "source": [
        "#Changing the gender variable to 0 or 1.\n",
        "df['GENDER_CODED'] = df['GENDER'].map({'MALE': 0, 'FEMALE': 1})\n"
      ],
      "metadata": {
        "id": "sjXYP56IVc85"
      },
      "id": "sjXYP56IVc85",
      "execution_count": 21,
      "outputs": []
    },
    {
      "cell_type": "code",
      "source": [
        "#Encoding the Origin variable\n",
        "from sklearn.preprocessing import LabelEncoder\n",
        "label_encoder = LabelEncoder()\n",
        "df['ORIGIN_CODED'] = label_encoder.fit_transform(df['ORIGIN'])"
      ],
      "metadata": {
        "id": "yz5kuQspV90U"
      },
      "id": "yz5kuQspV90U",
      "execution_count": 28,
      "outputs": []
    },
    {
      "cell_type": "markdown",
      "source": [
        "We have transfrmed the data so that they better fit the models we are about to build.For academic excellence consider 94 and above as excellent. (Based on SPS grade system)"
      ],
      "metadata": {
        "id": "hS5pPTMtPd3D"
      },
      "id": "hS5pPTMtPd3D"
    },
    {
      "cell_type": "markdown",
      "source": [
        "#Building predictive models"
      ],
      "metadata": {
        "id": "k5owWhlRXW8Y"
      },
      "id": "k5owWhlRXW8Y"
    },
    {
      "cell_type": "markdown",
      "source": [
        "Logistic regression with LASSO"
      ],
      "metadata": {
        "id": "89M5y3cSXZ_9"
      },
      "id": "89M5y3cSXZ_9"
    },
    {
      "cell_type": "code",
      "source": [
        "from sklearn.model_selection import train_test_split\n",
        "from sklearn.preprocessing import StandardScaler, OneHotEncoder\n",
        "from sklearn.compose import ColumnTransformer\n",
        "from sklearn.pipeline import Pipeline\n",
        "from sklearn.impute import SimpleImputer\n",
        "from sklearn.linear_model import LogisticRegression\n",
        "from sklearn.metrics import accuracy_score, classification_report\n",
        "from sklearn.ensemble import RandomForestClassifier, GradientBoostingClassifier\n",
        "\n",
        "# Identify predictor variables - let's focus on demographics, grades, and teacher evaluations for now\n",
        "# Assuming other relevant metrics can serve as proxies for engagement\n",
        "predictor_columns = ['SEMESTER', 'GENDER_CODED', 'ORIGIN_CODED', 'FIRSTPART_GRADE', 'SECONDPARTIAL_GRADE', 'FINAL_GRADE'] + [f'TEACHEREVAL_Q{i}' for i in range(1, 17)]\n",
        "X = df[predictor_columns]\n",
        "y = df['Academic_Success']\n",
        "\n",
        "# Splitting the dataset into training and testing sets\n",
        "X_train, X_test, y_train, y_test = train_test_split(X, y, test_size=0.2, random_state=42)\n",
        "\n",
        "# Defining the logistic regression model with LASSO (L1 penalty) again for clarity\n",
        "lr_lasso_direct = LogisticRegression(penalty='l1', solver='liblinear', random_state=42)\n",
        "\n",
        "# Fit the logistic regression model with LASSO using the previously preprocessed data\n",
        "lr_lasso_direct.fit(X_train, y_train)\n",
        "\n",
        "# Predict on the testing set using the directly preprocessed data\n",
        "y_pred_lasso_direct = lr_lasso_direct.predict(X_test)\n",
        "\n",
        "# Calculate accuracy and classification report for logistic regression with LASSO\n",
        "accuracy_lasso_direct = accuracy_score(y_test, y_pred_lasso_direct)\n",
        "classification_report_lasso_direct = classification_report(y_test, y_pred_lasso_direct)\n",
        "\n",
        "accuracy_lasso_direct, classification_report_lasso_direct\n",
        "\n"
      ],
      "metadata": {
        "colab": {
          "base_uri": "https://localhost:8080/"
        },
        "id": "tWBmjYT-O4FR",
        "outputId": "a5fafdda-e286-4662-b2d7-79581ee069ef"
      },
      "id": "tWBmjYT-O4FR",
      "execution_count": 30,
      "outputs": [
        {
          "output_type": "execute_result",
          "data": {
            "text/plain": [
              "(0.9409090909090909,\n",
              " '              precision    recall  f1-score   support\\n\\n           0       0.96      0.96      0.96       920\\n           1       0.90      0.91      0.90       400\\n\\n    accuracy                           0.94      1320\\n   macro avg       0.93      0.93      0.93      1320\\nweighted avg       0.94      0.94      0.94      1320\\n')"
            ]
          },
          "metadata": {},
          "execution_count": 30
        }
      ]
    },
    {
      "cell_type": "markdown",
      "source": [
        "Random Forest classification."
      ],
      "metadata": {
        "id": "dIVrsDPJXlBA"
      },
      "id": "dIVrsDPJXlBA"
    },
    {
      "cell_type": "code",
      "source": [
        "from sklearn.ensemble import RandomForestClassifier\n",
        "\n",
        "# Define the Random Forest classifier\n",
        "rf_classifier = RandomForestClassifier(n_estimators=100, random_state=42)\n",
        "\n",
        "# Fit the Random Forest classifier using the final predictors\n",
        "rf_classifier.fit(X_train, y_train)\n",
        "\n",
        "# Predict on the testing set using the Random Forest classifier\n",
        "y_pred_rf = rf_classifier.predict(X_test)\n",
        "\n",
        "# Calculate accuracy and classification report for Random Forest classifier\n",
        "accuracy_rf = accuracy_score(y_test, y_pred_rf)\n",
        "classification_report_rf = classification_report(y_test, y_pred_rf)\n",
        "\n",
        "accuracy_rf, classification_report_rf\n"
      ],
      "metadata": {
        "colab": {
          "base_uri": "https://localhost:8080/"
        },
        "id": "5r7G9ftoWSK0",
        "outputId": "efe490d7-a1c7-4e8b-b5e0-5782ad4349b0"
      },
      "id": "5r7G9ftoWSK0",
      "execution_count": 32,
      "outputs": [
        {
          "output_type": "execute_result",
          "data": {
            "text/plain": [
              "(0.9363636363636364,\n",
              " '              precision    recall  f1-score   support\\n\\n           0       0.95      0.96      0.95       920\\n           1       0.90      0.89      0.89       400\\n\\n    accuracy                           0.94      1320\\n   macro avg       0.93      0.92      0.92      1320\\nweighted avg       0.94      0.94      0.94      1320\\n')"
            ]
          },
          "metadata": {},
          "execution_count": 32
        }
      ]
    },
    {
      "cell_type": "markdown",
      "source": [
        "Support Vecortor Model"
      ],
      "metadata": {
        "id": "A4DgaCUbYtrd"
      },
      "id": "A4DgaCUbYtrd"
    },
    {
      "cell_type": "markdown",
      "source": [
        "####We will first build a bivariate plot to see what kind of kernel would work best for us."
      ],
      "metadata": {
        "id": "Sd0uLC4CYw6O"
      },
      "id": "Sd0uLC4CYw6O"
    },
    {
      "cell_type": "code",
      "source": [
        "import matplotlib.pyplot as plt\n",
        "import seaborn as sns\n",
        "\n",
        "# Setting the aesthetic style of the plots\n",
        "sns.set_style(\"whitegrid\")\n",
        "\n",
        "# Creating bivariate plots\n",
        "fig, ax = plt.subplots(1, 2, figsize=(14, 6))\n",
        "\n",
        "# SEMESTER vs. Academic_Success\n",
        "sns.scatterplot(data=df, x='SEMESTER', y='Academic_Success', ax=ax[0], hue='Academic_Success', style='Academic_Success', palette='coolwarm')\n",
        "ax[0].set_title('SEMESTER vs. Academic_Success')\n",
        "ax[0].set_xlabel('SEMESTER')\n",
        "ax[0].set_ylabel('Academic_Success')\n",
        "ax[0].legend(title='Academic Success')\n",
        "\n",
        "# FINAL_GRADE vs. Academic_Success\n",
        "sns.scatterplot(data=df, x='FINAL_GRADE', y='Academic_Success', ax=ax[1], hue='Academic_Success', style='Academic_Success', palette='coolwarm')\n",
        "ax[1].set_title('FINAL_GRADE vs. Academic_Success')\n",
        "ax[1].set_xlabel('FINAL_GRADE')\n",
        "ax[1].set_ylabel('Academic_Success')\n",
        "ax[1].legend(title='Academic Success')\n",
        "\n",
        "plt.tight_layout()\n",
        "plt.show()\n"
      ],
      "metadata": {
        "colab": {
          "base_uri": "https://localhost:8080/",
          "height": 381
        },
        "id": "MT4qqUmNX1MQ",
        "outputId": "51edb34e-3742-4db7-c270-87332ad9e0d2"
      },
      "id": "MT4qqUmNX1MQ",
      "execution_count": 34,
      "outputs": [
        {
          "output_type": "display_data",
          "data": {
            "text/plain": [
              "<Figure size 1400x600 with 2 Axes>"
            ],
            "image/png": "[encoded data removed]"
          },
          "metadata": {}
        }
      ]
    },
    {
      "cell_type": "code",
      "source": [
        "from sklearn.svm import SVC\n",
        "\n",
        "# Define the SVM model with a linear kernel\n",
        "svm_linear = SVC(kernel='linear', random_state=42)\n",
        "\n",
        "# Fit the SVM model to the training data\n",
        "svm_linear.fit(X_train, y_train)\n",
        "\n",
        "# Predict on the testing set\n",
        "y_pred_svm_linear = svm_linear.predict(X_test)\n",
        "\n",
        "# Calculate accuracy and classification report for SVM with a linear kernel\n",
        "accuracy_svm_linear = accuracy_score(y_test, y_pred_svm_linear)\n",
        "classification_report_svm_linear = classification_report(y_test, y_pred_svm_linear)\n",
        "\n",
        "accuracy_svm_linear, classification_report_svm_linear\n"
      ],
      "metadata": {
        "colab": {
          "base_uri": "https://localhost:8080/"
        },
        "id": "PH4nfzfGZF9K",
        "outputId": "92d7f3a8-4542-4d7c-b45d-66c28d4231a2"
      },
      "id": "PH4nfzfGZF9K",
      "execution_count": 36,
      "outputs": [
        {
          "output_type": "execute_result",
          "data": {
            "text/plain": [
              "(0.9416666666666667,\n",
              " '              precision    recall  f1-score   support\\n\\n           0       0.96      0.96      0.96       920\\n           1       0.90      0.91      0.90       400\\n\\n    accuracy                           0.94      1320\\n   macro avg       0.93      0.93      0.93      1320\\nweighted avg       0.94      0.94      0.94      1320\\n')"
            ]
          },
          "metadata": {},
          "execution_count": 36
        }
      ]
    },
    {
      "cell_type": "markdown",
      "source": [
        "#Assessing model performance"
      ],
      "metadata": {
        "id": "j7qHTrNlZgNc"
      },
      "id": "j7qHTrNlZgNc"
    },
    {
      "cell_type": "code",
      "source": [
        "from sklearn.model_selection import GridSearchCV\n",
        "from sklearn.linear_model import LogisticRegression\n",
        "\n",
        "# Logistic Regression with LASSO hyperparameter tuning\n",
        "lr_lasso_params = {'C': [0.01, 0.1, 1, 10, 100]}\n",
        "\n",
        "# Directly using LogisticRegression with LASSO for GridSearchCV\n",
        "lr_model = LogisticRegression(penalty='l1', solver='liblinear', random_state=42)\n",
        "\n",
        "# GridSearchCV for Logistic Regression with LASSO, without a pipeline\n",
        "lr_grid_search = GridSearchCV(lr_model, lr_lasso_params, cv=5, scoring='accuracy')\n",
        "\n",
        "# Fit the model using the grid search\n",
        "lr_grid_search.fit(X_train, y_train)  # Ensure X_train_final is preprocessed if necessary\n",
        "\n",
        "# Retrieve the best parameters and the best score from the grid search\n",
        "lr_best_params = lr_grid_search.best_params_\n",
        "lr_best_score = lr_grid_search.best_score_\n",
        "\n",
        "print(\"Best Parameters:\", lr_best_params)\n",
        "print(\"Best Score:\", lr_best_score)\n"
      ],
      "metadata": {
        "colab": {
          "base_uri": "https://localhost:8080/"
        },
        "id": "tRFAkiYPZoXp",
        "outputId": "1f7ad686-79f2-4216-8a85-1bd93f5eaf3f"
      },
      "id": "tRFAkiYPZoXp",
      "execution_count": 43,
      "outputs": [
        {
          "output_type": "stream",
          "name": "stderr",
          "text": [
            "/usr/local/lib/python3.10/dist-packages/sklearn/svm/_base.py:1244: ConvergenceWarning: Liblinear failed to converge, increase the number of iterations.\n",
            "  warnings.warn(\n",
            "/usr/local/lib/python3.10/dist-packages/sklearn/svm/_base.py:1244: ConvergenceWarning: Liblinear failed to converge, increase the number of iterations.\n",
            "  warnings.warn(\n",
            "/usr/local/lib/python3.10/dist-packages/sklearn/svm/_base.py:1244: ConvergenceWarning: Liblinear failed to converge, increase the number of iterations.\n",
            "  warnings.warn(\n",
            "/usr/local/lib/python3.10/dist-packages/sklearn/svm/_base.py:1244: ConvergenceWarning: Liblinear failed to converge, increase the number of iterations.\n",
            "  warnings.warn(\n",
            "/usr/local/lib/python3.10/dist-packages/sklearn/svm/_base.py:1244: ConvergenceWarning: Liblinear failed to converge, increase the number of iterations.\n",
            "  warnings.warn(\n",
            "/usr/local/lib/python3.10/dist-packages/sklearn/svm/_base.py:1244: ConvergenceWarning: Liblinear failed to converge, increase the number of iterations.\n",
            "  warnings.warn(\n",
            "/usr/local/lib/python3.10/dist-packages/sklearn/svm/_base.py:1244: ConvergenceWarning: Liblinear failed to converge, increase the number of iterations.\n",
            "  warnings.warn(\n",
            "/usr/local/lib/python3.10/dist-packages/sklearn/svm/_base.py:1244: ConvergenceWarning: Liblinear failed to converge, increase the number of iterations.\n",
            "  warnings.warn(\n"
          ]
        },
        {
          "output_type": "stream",
          "name": "stdout",
          "text": [
            "Best Parameters: {'C': 100}\n",
            "Best Score: 0.9454240269998564\n"
          ]
        },
        {
          "output_type": "stream",
          "name": "stderr",
          "text": [
            "/usr/local/lib/python3.10/dist-packages/sklearn/svm/_base.py:1244: ConvergenceWarning: Liblinear failed to converge, increase the number of iterations.\n",
            "  warnings.warn(\n"
          ]
        }
      ]
    },
    {
      "cell_type": "code",
      "source": [
        "# Random Forest hyperparameter tuning\n",
        "rf_params = {\n",
        "    'n_estimators': [100, 200, 300],\n",
        "    'max_depth': [None, 10, 20, 30]\n",
        "}\n",
        "rf_grid_search = GridSearchCV(RandomForestClassifier(random_state=42), rf_params, cv=5, scoring='accuracy')\n",
        "rf_grid_search.fit(X_train, y_train)\n",
        "\n",
        "# Best parameters and best score for Random Forest\n",
        "rf_best_params = rf_grid_search.best_params_\n",
        "rf_best_score = rf_grid_search.best_score_\n",
        "\n",
        "rf_best_params, rf_best_score\n"
      ],
      "metadata": {
        "colab": {
          "base_uri": "https://localhost:8080/"
        },
        "id": "prGRI5O0cxr9",
        "outputId": "8c9a086c-e728-4cb5-ee1a-5ab4f1fdc37d"
      },
      "id": "prGRI5O0cxr9",
      "execution_count": 44,
      "outputs": [
        {
          "output_type": "execute_result",
          "data": {
            "text/plain": [
              "({'max_depth': 10, 'n_estimators': 300}, 0.9439090550050266)"
            ]
          },
          "metadata": {},
          "execution_count": 44
        }
      ]
    },
    {
      "cell_type": "code",
      "source": [
        "# SVM with linear kernel hyperparameter tuning\n",
        "svm_params = {'C': [0.01, 0.1, 1, 10, 100]}\n",
        "svm_grid_search = GridSearchCV(SVC(kernel='linear', random_state=42), svm_params, cv=5, scoring='accuracy')\n",
        "svm_grid_search.fit(X_train, y_train)\n",
        "\n",
        "# Best parameters and best score for SVM with linear kernel\n",
        "svm_best_params = svm_grid_search.best_params_\n",
        "svm_best_score = svm_grid_search.best_score_\n",
        "\n",
        "svm_best_params, svm_best_score\n"
      ],
      "metadata": {
        "colab": {
          "base_uri": "https://localhost:8080/"
        },
        "id": "S6p6MN0idGla",
        "outputId": "da85c848-62bd-4ed9-9e59-e5a8166c3e48"
      },
      "id": "S6p6MN0idGla",
      "execution_count": 45,
      "outputs": [
        {
          "output_type": "execute_result",
          "data": {
            "text/plain": [
              "({'C': 0.01}, 0.9473194025563695)"
            ]
          },
          "metadata": {},
          "execution_count": 45
        }
      ]
    },
    {
      "cell_type": "code",
      "source": [
        "# Initialize the model with the best parameters\n",
        "lr_best = LogisticRegression(penalty='l1', solver='liblinear', C=100, random_state=42)\n",
        "\n",
        "# Fit the model\n",
        "lr_best.fit(X_train, y_train)\n",
        "\n",
        "# Predict on the testing set\n",
        "y_pred_lr = lr_best.predict(X_test)\n",
        "\n",
        "# Evaluate the model\n",
        "lr_test_accuracy = accuracy_score(y_test, y_pred_lr)\n",
        "print(\"Logistic Regression Testing Accuracy:\", lr_test_accuracy)\n"
      ],
      "metadata": {
        "colab": {
          "base_uri": "https://localhost:8080/"
        },
        "id": "NRO9CYF_fuoO",
        "outputId": "9d797b16-9c5c-4231-d7de-eaa00532cb61"
      },
      "id": "NRO9CYF_fuoO",
      "execution_count": 46,
      "outputs": [
        {
          "output_type": "stream",
          "name": "stdout",
          "text": [
            "Logistic Regression Testing Accuracy: 0.9416666666666667\n"
          ]
        },
        {
          "output_type": "stream",
          "name": "stderr",
          "text": [
            "/usr/local/lib/python3.10/dist-packages/sklearn/svm/_base.py:1244: ConvergenceWarning: Liblinear failed to converge, increase the number of iterations.\n",
            "  warnings.warn(\n"
          ]
        }
      ]
    },
    {
      "cell_type": "code",
      "source": [
        "# Initialize the model with the best parameters\n",
        "rf_best = RandomForestClassifier(max_depth=10, n_estimators=300, random_state=42)\n",
        "\n",
        "# Fit the model\n",
        "rf_best.fit(X_train, y_train)\n",
        "\n",
        "# Predict on the testing set\n",
        "y_pred_rf = rf_best.predict(X_test)\n",
        "\n",
        "# Evaluate the model\n",
        "rf_test_accuracy = accuracy_score(y_test, y_pred_rf)\n",
        "print(\"Random Forest Testing Accuracy:\", rf_test_accuracy)\n"
      ],
      "metadata": {
        "colab": {
          "base_uri": "https://localhost:8080/"
        },
        "id": "QspqcPTkfztt",
        "outputId": "fa98c7b4-b075-4042-f4b3-af0671960846"
      },
      "id": "QspqcPTkfztt",
      "execution_count": 47,
      "outputs": [
        {
          "output_type": "stream",
          "name": "stdout",
          "text": [
            "Random Forest Testing Accuracy: 0.9378787878787879\n"
          ]
        }
      ]
    },
    {
      "cell_type": "code",
      "source": [
        "# Initialize the model with the best parameters\n",
        "svm_best = SVC(kernel='linear', C=0.01, random_state=42)\n",
        "\n",
        "# Fit the model\n",
        "svm_best.fit(X_train, y_train)\n",
        "\n",
        "# Predict on the testing set\n",
        "y_pred_svm = svm_best.predict(X_test)\n",
        "\n",
        "# Evaluate the model\n",
        "svm_test_accuracy = accuracy_score(y_test, y_pred_svm)\n",
        "print(\"SVM Testing Accuracy:\", svm_test_accuracy)\n"
      ],
      "metadata": {
        "colab": {
          "base_uri": "https://localhost:8080/"
        },
        "id": "bLx42J5cf4TF",
        "outputId": "74b6253d-69ee-4b61-d23b-9ac9a434c4d6"
      },
      "id": "bLx42J5cf4TF",
      "execution_count": 48,
      "outputs": [
        {
          "output_type": "stream",
          "name": "stdout",
          "text": [
            "SVM Testing Accuracy: 0.9401515151515152\n"
          ]
        }
      ]
    },
    {
      "cell_type": "markdown",
      "source": [
        "#Reporting results"
      ],
      "metadata": {
        "id": "g5YGzIcsmO6e"
      },
      "id": "g5YGzIcsmO6e"
    },
    {
      "cell_type": "markdown",
      "source": [
        "Results for Logistic regression."
      ],
      "metadata": {
        "id": "m-pdIS66mWli"
      },
      "id": "m-pdIS66mWli"
    },
    {
      "cell_type": "code",
      "source": [
        "print(\"Logistic Regression (LASSO) Optimal Hyperparameters:\", lr_grid_search.best_params_)\n",
        "y_pred_lr = lr_best.predict(X_test)\n",
        "tn_lr, fp_lr, fn_lr, tp_lr = confusion_matrix(y_test, y_pred_lr).ravel()\n",
        "accuracy_lr = accuracy_score(y_test, y_pred_lr)\n",
        "print(\"Accuracy:\", accuracy_lr)\n",
        "print(\"TP:\", tp_lr)\n",
        "print(\"TN:\", tn_lr)\n",
        "print(\"FP:\", fp_lr)\n",
        "print(\"FN:\", fn_lr, \"\\n\")\n"
      ],
      "metadata": {
        "colab": {
          "base_uri": "https://localhost:8080/"
        },
        "id": "yWtHdD5xhpC6",
        "outputId": "5ecb4f15-5003-475d-e49f-b95a6cc12f95"
      },
      "id": "yWtHdD5xhpC6",
      "execution_count": 52,
      "outputs": [
        {
          "output_type": "stream",
          "name": "stdout",
          "text": [
            "Logistic Regression (LASSO) Optimal Hyperparameters: {'C': 100}\n",
            "Accuracy: 0.9416666666666667\n",
            "TP: 362\n",
            "TN: 881\n",
            "FP: 39\n",
            "FN: 38 \n",
            "\n"
          ]
        }
      ]
    },
    {
      "cell_type": "markdown",
      "source": [
        "Results for Random forest"
      ],
      "metadata": {
        "id": "OiGcCHV_mapv"
      },
      "id": "OiGcCHV_mapv"
    },
    {
      "cell_type": "code",
      "source": [
        "print(\"Random Forest Optimal Hyperparameters:\", rf_grid_search.best_params_)\n",
        "y_pred_rf = rf_best.predict(X_test)\n",
        "tn_rf, fp_rf, fn_rf, tp_rf = confusion_matrix(y_test, y_pred_rf).ravel()\n",
        "accuracy_rf = accuracy_score(y_test, y_pred_rf)\n",
        "print(\"Accuracy:\", accuracy_rf)\n",
        "print(\"TP:\", tp_rf)\n",
        "print(\"TN:\", tn_rf)\n",
        "print(\"FP:\", fp_rf)\n",
        "print(\"FN:\", fn_rf, \"\\n\")\n"
      ],
      "metadata": {
        "colab": {
          "base_uri": "https://localhost:8080/"
        },
        "id": "edo74SFQhrhK",
        "outputId": "4a530e4e-ac2a-424a-b943-96093255f630"
      },
      "id": "edo74SFQhrhK",
      "execution_count": 53,
      "outputs": [
        {
          "output_type": "stream",
          "name": "stdout",
          "text": [
            "Random Forest Optimal Hyperparameters: {'max_depth': 10, 'n_estimators': 300}\n",
            "Accuracy: 0.9378787878787879\n",
            "TP: 357\n",
            "TN: 881\n",
            "FP: 39\n",
            "FN: 43 \n",
            "\n"
          ]
        }
      ]
    },
    {
      "cell_type": "markdown",
      "source": [
        "Results for SVM"
      ],
      "metadata": {
        "id": "EgTtCrBAmgcS"
      },
      "id": "EgTtCrBAmgcS"
    },
    {
      "cell_type": "code",
      "source": [
        "print(\"SVM (Linear Kernel) Optimal Hyperparameters:\", svm_grid_search.best_params_)\n",
        "y_pred_svm = svm_best.predict(X_test)\n",
        "tn_svm, fp_svm, fn_svm, tp_svm = confusion_matrix(y_test, y_pred_svm).ravel()\n",
        "accuracy_svm = accuracy_score(y_test, y_pred_svm)\n",
        "print(\"Accuracy:\", accuracy_svm)\n",
        "print(\"TP:\", tp_svm)\n",
        "print(\"TN:\", tn_svm)\n",
        "print(\"FP:\", fp_svm)\n",
        "print(\"FN:\", fn_svm)\n"
      ],
      "metadata": {
        "colab": {
          "base_uri": "https://localhost:8080/"
        },
        "id": "oMSpD16fhvRU",
        "outputId": "110f4c16-f7d3-4222-d91c-32ff84fce421"
      },
      "id": "oMSpD16fhvRU",
      "execution_count": 54,
      "outputs": [
        {
          "output_type": "stream",
          "name": "stdout",
          "text": [
            "SVM (Linear Kernel) Optimal Hyperparameters: {'C': 0.01}\n",
            "Accuracy: 0.9401515151515152\n",
            "TP: 360\n",
            "TN: 881\n",
            "FP: 39\n",
            "FN: 40\n"
          ]
        }
      ]
    },
    {
      "cell_type": "markdown",
      "source": [
        "##Variable Importance"
      ],
      "metadata": {
        "id": "5qnLGV4ymGfG"
      },
      "id": "5qnLGV4ymGfG"
    },
    {
      "cell_type": "code",
      "source": [
        "# Variable Importance (Coefficient magnitude)\n",
        "coefficients = lr_grid_search.best_estimator_.coef_.flatten()\n",
        "features = X.columns\n",
        "feature_importance_lr = pd.Series(coefficients, index=features).sort_values(key=abs, ascending=False)\n",
        "print(\"Feature importance for Logistic Regression:\\n\", feature_importance_lr)"
      ],
      "metadata": {
        "colab": {
          "base_uri": "https://localhost:8080/"
        },
        "id": "fQ6L9s4kk-NP",
        "outputId": "f0aa50e3-22a9-44a1-c552-1fc146b42ca7"
      },
      "id": "fQ6L9s4kk-NP",
      "execution_count": 56,
      "outputs": [
        {
          "output_type": "stream",
          "name": "stdout",
          "text": [
            "Feature importance for Logistic Regression:\n",
            " SECONDPARTIAL_GRADE    0.484408\n",
            "FINAL_GRADE            0.458688\n",
            "FIRSTPART_GRADE        0.455695\n",
            "TEACHEREVAL_Q10        0.402488\n",
            "TEACHEREVAL_Q5        -0.328571\n",
            "TEACHEREVAL_Q4        -0.285978\n",
            "TEACHEREVAL_Q6         0.216492\n",
            "TEACHEREVAL_Q7         0.203070\n",
            "GENDER_CODED          -0.174262\n",
            "TEACHEREVAL_Q15       -0.166357\n",
            "TEACHEREVAL_Q9         0.161309\n",
            "TEACHEREVAL_Q1         0.134420\n",
            "TEACHEREVAL_Q13        0.129905\n",
            "TEACHEREVAL_Q8        -0.119035\n",
            "TEACHEREVAL_Q12        0.087776\n",
            "TEACHEREVAL_Q16       -0.086609\n",
            "ORIGIN_CODED          -0.072180\n",
            "TEACHEREVAL_Q14       -0.041792\n",
            "TEACHEREVAL_Q11        0.041203\n",
            "TEACHEREVAL_Q2        -0.008282\n",
            "TEACHEREVAL_Q3         0.005137\n",
            "SEMESTER              -0.002574\n",
            "dtype: float64\n"
          ]
        }
      ]
    },
    {
      "cell_type": "code",
      "source": [
        "# Variable Importance\n",
        "importances_rf = rf_grid_search.best_estimator_.feature_importances_\n",
        "feature_importance_rf = pd.Series(importances_rf, index=features).sort_values(ascending=False)\n",
        "print(\"Feature importance for Random Forest:\\n\", feature_importance_rf)"
      ],
      "metadata": {
        "colab": {
          "base_uri": "https://localhost:8080/"
        },
        "id": "Ad-ed69TlQDK",
        "outputId": "50e9d250-c797-4315-c675-3e4c5d54aa93"
      },
      "id": "Ad-ed69TlQDK",
      "execution_count": 58,
      "outputs": [
        {
          "output_type": "stream",
          "name": "stdout",
          "text": [
            "Feature importance for Random Forest:\n",
            " FIRSTPART_GRADE        0.329153\n",
            "SECONDPARTIAL_GRADE    0.310491\n",
            "FINAL_GRADE            0.250413\n",
            "GENDER_CODED           0.010156\n",
            "SEMESTER               0.009450\n",
            "TEACHEREVAL_Q3         0.007033\n",
            "TEACHEREVAL_Q4         0.006581\n",
            "TEACHEREVAL_Q5         0.006493\n",
            "TEACHEREVAL_Q2         0.006491\n",
            "TEACHEREVAL_Q7         0.006345\n",
            "TEACHEREVAL_Q8         0.006009\n",
            "TEACHEREVAL_Q6         0.005593\n",
            "TEACHEREVAL_Q12        0.005407\n",
            "TEACHEREVAL_Q9         0.005346\n",
            "TEACHEREVAL_Q11        0.004914\n",
            "TEACHEREVAL_Q1         0.004801\n",
            "TEACHEREVAL_Q16        0.004737\n",
            "TEACHEREVAL_Q13        0.004716\n",
            "TEACHEREVAL_Q15        0.004486\n",
            "TEACHEREVAL_Q14        0.004478\n",
            "TEACHEREVAL_Q10        0.004381\n",
            "ORIGIN_CODED           0.002526\n",
            "dtype: float64\n"
          ]
        }
      ]
    },
    {
      "cell_type": "code",
      "source": [
        "# Assuming svm_best is your trained SVM model with a linear kernel\n",
        "svm_coefficients = svm_best.coef_[0]\n",
        "\n",
        "# Assuming X_train is your training dataset\n",
        "feature_names = X_train.columns  # Make sure this reflects the actual features used\n",
        "\n",
        "# Pairing feature names with coefficients\n",
        "svm_feature_importance = zip(feature_names, svm_coefficients)\n",
        "\n",
        "# Sorting features by absolute value of coefficient to understand their importance\n",
        "sorted_svm_feature_importance = sorted(svm_feature_importance, key=lambda x: abs(x[1]), reverse=True)\n",
        "\n",
        "# Displaying feature importance\n",
        "print(\"Feature Importance from SVM (Linear Kernel):\")\n",
        "for feature, coef in sorted_svm_feature_importance:\n",
        "    print(f\"{feature}: {coef}\")\n"
      ],
      "metadata": {
        "colab": {
          "base_uri": "https://localhost:8080/"
        },
        "id": "FMkmCKg6lbBv",
        "outputId": "34e26497-7e80-48ab-a584-229ffbc61fc7"
      },
      "id": "FMkmCKg6lbBv",
      "execution_count": 59,
      "outputs": [
        {
          "output_type": "stream",
          "name": "stdout",
          "text": [
            "Feature Importance from SVM (Linear Kernel):\n",
            "SECONDPARTIAL_GRADE: 0.3261771634025532\n",
            "FIRSTPART_GRADE: 0.31880246590057526\n",
            "FINAL_GRADE: 0.30918710651197223\n",
            "TEACHEREVAL_Q10: 0.12080530855445804\n",
            "TEACHEREVAL_Q4: -0.10239323214679324\n",
            "TEACHEREVAL_Q6: 0.10176641896327926\n",
            "TEACHEREVAL_Q5: -0.09106142147354807\n",
            "TEACHEREVAL_Q1: 0.054874837975937285\n",
            "TEACHEREVAL_Q9: 0.054307317538216604\n",
            "TEACHEREVAL_Q12: 0.044376910088410326\n",
            "TEACHEREVAL_Q2: -0.03903677602147626\n",
            "GENDER_CODED: -0.03651410030724721\n",
            "TEACHEREVAL_Q7: 0.03491824984921976\n",
            "TEACHEREVAL_Q16: 0.0251672385856907\n",
            "TEACHEREVAL_Q14: -0.024475121916851028\n",
            "TEACHEREVAL_Q13: 0.023397404938901745\n",
            "TEACHEREVAL_Q8: -0.023143359045739054\n",
            "TEACHEREVAL_Q15: -0.0141029997623896\n",
            "TEACHEREVAL_Q3: 0.010536529444604592\n",
            "TEACHEREVAL_Q11: 0.010415294940562259\n",
            "SEMESTER: -0.0072081612656983984\n",
            "ORIGIN_CODED: -0.0059343948511717814\n"
          ]
        }
      ]
    },
    {
      "cell_type": "code",
      "source": [
        "from sklearn.metrics import classification_report\n",
        "\n",
        "# For Logistic Regression\n",
        "print(\"Classification Report for Logistic Regression:\")\n",
        "print(classification_report(y_test, y_pred_lr))\n",
        "\n",
        "# For Random Forest\n",
        "print(\"Classification Report for Random Forest:\")\n",
        "print(classification_report(y_test, y_pred_rf))\n",
        "\n",
        "# For SVM\n",
        "print(\"Classification Report for SVM:\")\n",
        "print(classification_report(y_test, y_pred_svm))"
      ],
      "metadata": {
        "colab": {
          "base_uri": "https://localhost:8080/"
        },
        "id": "AdLermSAnPnx",
        "outputId": "55fc8cfc-421f-4609-9d6e-ce040af87370"
      },
      "id": "AdLermSAnPnx",
      "execution_count": 60,
      "outputs": [
        {
          "output_type": "stream",
          "name": "stdout",
          "text": [
            "Classification Report for Logistic Regression:\n",
            "              precision    recall  f1-score   support\n",
            "\n",
            "           0       0.96      0.96      0.96       920\n",
            "           1       0.90      0.91      0.90       400\n",
            "\n",
            "    accuracy                           0.94      1320\n",
            "   macro avg       0.93      0.93      0.93      1320\n",
            "weighted avg       0.94      0.94      0.94      1320\n",
            "\n",
            "Classification Report for Random Forest:\n",
            "              precision    recall  f1-score   support\n",
            "\n",
            "           0       0.95      0.96      0.96       920\n",
            "           1       0.90      0.89      0.90       400\n",
            "\n",
            "    accuracy                           0.94      1320\n",
            "   macro avg       0.93      0.93      0.93      1320\n",
            "weighted avg       0.94      0.94      0.94      1320\n",
            "\n",
            "Classification Report for SVM:\n",
            "              precision    recall  f1-score   support\n",
            "\n",
            "           0       0.96      0.96      0.96       920\n",
            "           1       0.90      0.90      0.90       400\n",
            "\n",
            "    accuracy                           0.94      1320\n",
            "   macro avg       0.93      0.93      0.93      1320\n",
            "weighted avg       0.94      0.94      0.94      1320\n",
            "\n"
          ]
        }
      ]
    },
    {
      "cell_type": "markdown",
      "source": [
        "With the feature importance data for each of the three models—Logistic Regression with LASSO, Random Forest, and SVM with a Linear Kernel—you now have detailed insights into which features are most influential in predicting your target variable across different modeling approaches. Let's summarize and provide a brief analysis of what these importance rankings might indicate.\n",
        "\n",
        "### Summary of Feature Importance Across Models\n",
        "\n",
        "**Common Trends:**\n",
        "- **Grades (`FIRSTPART_GRADE`, `SECONDPARTIAL_GRADE`, `FINAL_GRADE`)** consistently emerge as top predictors across all models, underscoring their critical role in determining academic success. This suggests that performance in assessments is a strong indicator of overall academic achievement, which aligns well with educational intuition.\n",
        "- **Teacher evaluations (`TEACHEREVAL_Q*`)** vary in their importance across models, but certain questions (like Q10 in Logistic Regression and SVM) are highlighted as significant in multiple models. This variation suggests that specific aspects of teacher evaluations may have nuanced impacts on academic success.\n",
        "\n",
        "**Model-Specific Observations:**\n",
        "- **Logistic Regression**: The mix of positive and negative coefficients among the teacher evaluation questions suggests that specific aspects of these evaluations have differing directions of influence on the outcome. For example, `TEACHEREVAL_Q5` and `TEACHEREVAL_Q4` have negative coefficients, indicating an inverse relationship with the target variable in the context of the model's linear decision boundary.\n",
        "- **Random Forest**: The feature importance scores highlight a similar emphasis on grades but with a more distributed importance across different features compared to Logistic Regression. The lower importance of non-grade features might reflect the model's ability to capture complex interactions between features that aren't as easily discernible in linear models.\n",
        "- **SVM with a Linear Kernel**: The importance rankings, inferred from the coefficients, again highlight grades as paramount. The magnitudes and signs of the coefficients for teacher evaluation questions suggest nuanced relationships similar to those observed in Logistic Regression.\n",
        "\n",
        "### Choosing Metrics for Model Comparison\n",
        "\n",
        "Given these insights, when comparing models, especially in an educational context where decisions could significantly impact students' academic trajectories, it's crucial to consider metrics beyond accuracy:\n",
        "- **Precision and Recall**: Given the potential costs associated with false positives (e.g., incorrectly predicting academic success) and false negatives (failing to identify students at risk), balancing precision and recall becomes essential.\n",
        "- **F1-Score**: Offers a balance between precision and recall, useful when you seek a harmonic mean of these metrics.\n",
        "\n",
        "### Contextual Considerations\n",
        "\n",
        "- The **decision context** (e.g., resource allocation for academic support, early intervention programs) might prioritize avoiding false negatives (failing to support students who need intervention) over false positives (providing extra support to students who might not need it), making recall a particularly relevant metric.\n",
        "\n",
        "- **Variable importance** provides insights for policy and intervention, suggesting areas (like specific aspects of teaching quality or assessment performance) where targeted improvements or interventions could be most effective.\n",
        "\n",
        "In summary, the optimal choice of metrics and the interpretation of feature importance should be aligned with the specific objectives and stakes of the educational decisions informed by these models."
      ],
      "metadata": {
        "id": "Vd8jQkjejwZD"
      },
      "id": "Vd8jQkjejwZD"
    },
    {
      "cell_type": "markdown",
      "source": [
        "#**Conclusion**"
      ],
      "metadata": {
        "id": "6L5YkT8NnVKv"
      },
      "id": "6L5YkT8NnVKv"
    },
    {
      "cell_type": "markdown",
      "source": [
        "Given the classification reports for the Logistic Regression with LASSO, Random Forest, and SVM with a Linear Kernel, we observe remarkably similar performance across all three models in terms of precision, recall, and f1-score for both the positive (1) and negative (0) classes, as well as overall accuracy. This provides a nuanced perspective for model selection and recommendation.\n",
        "\n",
        "### Key Observations:\n",
        "\n",
        "- **Overall Accuracy**: All three models exhibit an accuracy of 94%, demonstrating high effectiveness in predicting academic success.\n",
        "- **Precision and Recall**: The precision and recall for identifying academically successful students (1) and those not identified as such (0) are closely matched across models, with slight variations in the second decimal place not likely to be significant in practice.\n",
        "- **F1-Score**: Reflects a balanced harmonic mean of precision and recall, reinforcing the close performance of these models in handling both classes effectively.\n",
        "\n",
        "### Recommendations:\n",
        "\n",
        "Given the uniformity in predictive performance:\n",
        "\n",
        "1. **For the \"best\" predictive performance**: The choice between models becomes less about statistical metrics, as all three perform similarly, and more about other factors such as interpretability, computational efficiency, and ease of integration into existing processes. Given the negligible difference in precision, recall, and f1-score, **Logistic Regression with LASSO** might edge out slightly as preferable due to its interpretability and simplicity, especially valuable in settings where understanding the influence of specific predictors is crucial.\n",
        "\n",
        "2. **For a good enough solution quickly**: While all models show comparable performance, **Logistic Regression with LASSO** stands out for its computational efficiency and ease of explanation. It provides a \"quick\" solution without sacrificing quality, making it ideal for scenarios requiring rapid development and deployment. Logistic Regression is inherently simpler and faster to train than Random Forest and SVM, particularly for large datasets or under computational constraints.\n",
        "\n",
        "### Conclusion on Variable Importance:\n",
        "The close performance also suggests that the primary predictors (grades and teacher evaluations) have a linear or nearly linear relationship with the outcome that all models can capture effectively. The grades being consistently significant across models highlights their universal importance in predicting academic success, reinforcing the value of focusing on academic performance as a key indicator.\n",
        "\n",
        "### Final Recommendation:\n",
        "- **For maximizing predictive performance with interpretability**: **Logistic Regression with LASSO** is recommended. Its performance is on par with more complex models, and it offers added benefits in terms of simplicity, interpretability, and computational efficiency.\n",
        "- **In computationally constrained environments or under tight deadlines**, Logistic Regression with LASSO again proves to be an optimal choice, offering a robust solution that balances performance with practicality.\n",
        "\n",
        "This analysis underscores the importance of considering model performance in conjunction with operational and interpretational factors, especially when predictive accuracies are closely matched."
      ],
      "metadata": {
        "id": "kMukaeATnqE0"
      },
      "id": "kMukaeATnqE0"
    }
  ],
  "metadata": {
    "kernelspec": {
      "display_name": "Python 3 (ipykernel)",
      "language": "python",
      "name": "python3"
    },
    "language_info": {
      "codemirror_mode": {
        "name": "ipython",
        "version": 3
      },
      "file_extension": ".py",
      "mimetype": "text/x-python",
      "name": "python",
      "nbconvert_exporter": "python",
      "pygments_lexer": "ipython3",
      "version": "3.9.13"
    },
    "colab": {
      "provenance": []
    }
  },
  "nbformat": 4,
  "nbformat_minor": 5
}