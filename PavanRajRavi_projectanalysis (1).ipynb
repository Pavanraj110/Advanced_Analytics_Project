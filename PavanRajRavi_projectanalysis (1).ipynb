{
  "nbformat": 4,
  "nbformat_minor": 0,
  "metadata": {
    "colab": {
      "provenance": []
    },
    "kernelspec": {
      "name": "python3",
      "display_name": "Python 3"
    },
    "language_info": {
      "name": "python"
    }
  },
  "cells": [
    {
      "cell_type": "code",
      "execution_count": null,
      "metadata": {
        "colab": {
          "base_uri": "https://localhost:8080/",
          "height": 864
        },
        "id": "clgHfI4h9HfI",
        "outputId": "0c56fe14-110f-4a3e-fede-efa93f749dea"
      },
      "outputs": [
        {
          "output_type": "display_data",
          "data": {
            "text/plain": [
              "                Variable Name Measurement Type Variable Role\n",
              "0                     ID_LINE          Nominal      Excluded\n",
              "1                AGE_OPERATOR            Ratio     Predictor\n",
              "2                   YEARS_EXP            Ratio     Predictor\n",
              "3                   SENIORITY            Ratio     Predictor\n",
              "4                EMPLOYEE_CAT          Ordinal     Predictor\n",
              "5   HOURS_OFTRAINING_SECURITY            Ratio     Predictor\n",
              "6   HOURS_OFTRAINING_POSITION            Ratio     Predictor\n",
              "7              GRADE_TEOREXAM            Scale     Predictor\n",
              "8         GRADE_PRACTICALEXAM            Scale     Predictor\n",
              "9                 NUMBER_ILLS            Ratio     Predictor\n",
              "10           SCORE_RISKOFMACH            Scale       Outcome\n",
              "11                SCORE_ILLUM            Scale     Predictor\n",
              "12              NOISE_ATPLACE            Ratio     Predictor\n",
              "13          NUMBER_EXTRAHOURS            Ratio     Predictor\n",
              "14           NUMBER_RESTHOURS            Ratio     Predictor\n",
              "15               SCORE_HIDRAT            Scale     Predictor\n",
              "16                    USE_PPE          Nominal     Predictor\n",
              "17              USE_ADEQTOOLS          Nominal     Predictor\n",
              "18             SUFFER_ANXIETY          Nominal     Predictor\n",
              "19               EXPOSED_QUIM            Scale     Predictor\n",
              "20            AVAILABLE_SPACE            Scale     Predictor\n",
              "21              SCORE_FATIGUE            Scale     Predictor\n",
              "22             EVAL_TIMEAVAIL            Scale     Predictor\n",
              "23            EVAL_KNOWSUFFIC            Scale     Predictor\n",
              "24           TEMP_PLACEOFWORK            Ratio     Predictor\n",
              "25                        ACA            Ratio       Outcome"
            ],
            "text/html": [
              "\n",
              "  <div id=\"df-2a745875-49a8-4706-a201-be30d54386fa\" class=\"colab-df-container\">\n",
              "    <div>\n",
              "<style scoped>\n",
              "    .dataframe tbody tr th:only-of-type {\n",
              "        vertical-align: middle;\n",
              "    }\n",
              "\n",
              "    .dataframe tbody tr th {\n",
              "        vertical-align: top;\n",
              "    }\n",
              "\n",
              "    .dataframe thead th {\n",
              "        text-align: right;\n",
              "    }\n",
              "</style>\n",
              "<table border=\"1\" class=\"dataframe\">\n",
              "  <thead>\n",
              "    <tr style=\"text-align: right;\">\n",
              "      <th></th>\n",
              "      <th>Variable Name</th>\n",
              "      <th>Measurement Type</th>\n",
              "      <th>Variable Role</th>\n",
              "    </tr>\n",
              "  </thead>\n",
              "  <tbody>\n",
              "    <tr>\n",
              "      <th>0</th>\n",
              "      <td>ID_LINE</td>\n",
              "      <td>Nominal</td>\n",
              "      <td>Excluded</td>\n",
              "    </tr>\n",
              "    <tr>\n",
              "      <th>1</th>\n",
              "      <td>AGE_OPERATOR</td>\n",
              "      <td>Ratio</td>\n",
              "      <td>Predictor</td>\n",
              "    </tr>\n",
              "    <tr>\n",
              "      <th>2</th>\n",
              "      <td>YEARS_EXP</td>\n",
              "      <td>Ratio</td>\n",
              "      <td>Predictor</td>\n",
              "    </tr>\n",
              "    <tr>\n",
              "      <th>3</th>\n",
              "      <td>SENIORITY</td>\n",
              "      <td>Ratio</td>\n",
              "      <td>Predictor</td>\n",
              "    </tr>\n",
              "    <tr>\n",
              "      <th>4</th>\n",
              "      <td>EMPLOYEE_CAT</td>\n",
              "      <td>Ordinal</td>\n",
              "      <td>Predictor</td>\n",
              "    </tr>\n",
              "    <tr>\n",
              "      <th>5</th>\n",
              "      <td>HOURS_OFTRAINING_SECURITY</td>\n",
              "      <td>Ratio</td>\n",
              "      <td>Predictor</td>\n",
              "    </tr>\n",
              "    <tr>\n",
              "      <th>6</th>\n",
              "      <td>HOURS_OFTRAINING_POSITION</td>\n",
              "      <td>Ratio</td>\n",
              "      <td>Predictor</td>\n",
              "    </tr>\n",
              "    <tr>\n",
              "      <th>7</th>\n",
              "      <td>GRADE_TEOREXAM</td>\n",
              "      <td>Scale</td>\n",
              "      <td>Predictor</td>\n",
              "    </tr>\n",
              "    <tr>\n",
              "      <th>8</th>\n",
              "      <td>GRADE_PRACTICALEXAM</td>\n",
              "      <td>Scale</td>\n",
              "      <td>Predictor</td>\n",
              "    </tr>\n",
              "    <tr>\n",
              "      <th>9</th>\n",
              "      <td>NUMBER_ILLS</td>\n",
              "      <td>Ratio</td>\n",
              "      <td>Predictor</td>\n",
              "    </tr>\n",
              "    <tr>\n",
              "      <th>10</th>\n",
              "      <td>SCORE_RISKOFMACH</td>\n",
              "      <td>Scale</td>\n",
              "      <td>Outcome</td>\n",
              "    </tr>\n",
              "    <tr>\n",
              "      <th>11</th>\n",
              "      <td>SCORE_ILLUM</td>\n",
              "      <td>Scale</td>\n",
              "      <td>Predictor</td>\n",
              "    </tr>\n",
              "    <tr>\n",
              "      <th>12</th>\n",
              "      <td>NOISE_ATPLACE</td>\n",
              "      <td>Ratio</td>\n",
              "      <td>Predictor</td>\n",
              "    </tr>\n",
              "    <tr>\n",
              "      <th>13</th>\n",
              "      <td>NUMBER_EXTRAHOURS</td>\n",
              "      <td>Ratio</td>\n",
              "      <td>Predictor</td>\n",
              "    </tr>\n",
              "    <tr>\n",
              "      <th>14</th>\n",
              "      <td>NUMBER_RESTHOURS</td>\n",
              "      <td>Ratio</td>\n",
              "      <td>Predictor</td>\n",
              "    </tr>\n",
              "    <tr>\n",
              "      <th>15</th>\n",
              "      <td>SCORE_HIDRAT</td>\n",
              "      <td>Scale</td>\n",
              "      <td>Predictor</td>\n",
              "    </tr>\n",
              "    <tr>\n",
              "      <th>16</th>\n",
              "      <td>USE_PPE</td>\n",
              "      <td>Nominal</td>\n",
              "      <td>Predictor</td>\n",
              "    </tr>\n",
              "    <tr>\n",
              "      <th>17</th>\n",
              "      <td>USE_ADEQTOOLS</td>\n",
              "      <td>Nominal</td>\n",
              "      <td>Predictor</td>\n",
              "    </tr>\n",
              "    <tr>\n",
              "      <th>18</th>\n",
              "      <td>SUFFER_ANXIETY</td>\n",
              "      <td>Nominal</td>\n",
              "      <td>Predictor</td>\n",
              "    </tr>\n",
              "    <tr>\n",
              "      <th>19</th>\n",
              "      <td>EXPOSED_QUIM</td>\n",
              "      <td>Scale</td>\n",
              "      <td>Predictor</td>\n",
              "    </tr>\n",
              "    <tr>\n",
              "      <th>20</th>\n",
              "      <td>AVAILABLE_SPACE</td>\n",
              "      <td>Scale</td>\n",
              "      <td>Predictor</td>\n",
              "    </tr>\n",
              "    <tr>\n",
              "      <th>21</th>\n",
              "      <td>SCORE_FATIGUE</td>\n",
              "      <td>Scale</td>\n",
              "      <td>Predictor</td>\n",
              "    </tr>\n",
              "    <tr>\n",
              "      <th>22</th>\n",
              "      <td>EVAL_TIMEAVAIL</td>\n",
              "      <td>Scale</td>\n",
              "      <td>Predictor</td>\n",
              "    </tr>\n",
              "    <tr>\n",
              "      <th>23</th>\n",
              "      <td>EVAL_KNOWSUFFIC</td>\n",
              "      <td>Scale</td>\n",
              "      <td>Predictor</td>\n",
              "    </tr>\n",
              "    <tr>\n",
              "      <th>24</th>\n",
              "      <td>TEMP_PLACEOFWORK</td>\n",
              "      <td>Ratio</td>\n",
              "      <td>Predictor</td>\n",
              "    </tr>\n",
              "    <tr>\n",
              "      <th>25</th>\n",
              "      <td>ACA</td>\n",
              "      <td>Ratio</td>\n",
              "      <td>Outcome</td>\n",
              "    </tr>\n",
              "  </tbody>\n",
              "</table>\n",
              "</div>\n",
              "    <div class=\"colab-df-buttons\">\n",
              "\n",
              "  <div class=\"colab-df-container\">\n",
              "    <button class=\"colab-df-convert\" onclick=\"convertToInteractive('df-2a745875-49a8-4706-a201-be30d54386fa')\"\n",
              "            title=\"Convert this dataframe to an interactive table.\"\n",
              "            style=\"display:none;\">\n",
              "\n",
              "  <svg xmlns=\"http://www.w3.org/2000/svg\" height=\"24px\" viewBox=\"0 -960 960 960\">\n",
              "    <path d=\"M120-120v-720h720v720H120Zm60-500h600v-160H180v160Zm220 220h160v-160H400v160Zm0 220h160v-160H400v160ZM180-400h160v-160H180v160Zm440 0h160v-160H620v160ZM180-180h160v-160H180v160Zm440 0h160v-160H620v160Z\"/>\n",
              "  </svg>\n",
              "    </button>\n",
              "\n",
              "  <style>\n",
              "    .colab-df-container {\n",
              "      display:flex;\n",
              "      gap: 12px;\n",
              "    }\n",
              "\n",
              "    .colab-df-convert {\n",
              "      background-color: #E8F0FE;\n",
              "      border: none;\n",
              "      border-radius: 50%;\n",
              "      cursor: pointer;\n",
              "      display: none;\n",
              "      fill: #1967D2;\n",
              "      height: 32px;\n",
              "      padding: 0 0 0 0;\n",
              "      width: 32px;\n",
              "    }\n",
              "\n",
              "    .colab-df-convert:hover {\n",
              "      background-color: #E2EBFA;\n",
              "      box-shadow: 0px 1px 2px rgba(60, 64, 67, 0.3), 0px 1px 3px 1px rgba(60, 64, 67, 0.15);\n",
              "      fill: #174EA6;\n",
              "    }\n",
              "\n",
              "    .colab-df-buttons div {\n",
              "      margin-bottom: 4px;\n",
              "    }\n",
              "\n",
              "    [theme=dark] .colab-df-convert {\n",
              "      background-color: #3B4455;\n",
              "      fill: #D2E3FC;\n",
              "    }\n",
              "\n",
              "    [theme=dark] .colab-df-convert:hover {\n",
              "      background-color: #434B5C;\n",
              "      box-shadow: 0px 1px 3px 1px rgba(0, 0, 0, 0.15);\n",
              "      filter: drop-shadow(0px 1px 2px rgba(0, 0, 0, 0.3));\n",
              "      fill: #FFFFFF;\n",
              "    }\n",
              "  </style>\n",
              "\n",
              "    <script>\n",
              "      const buttonEl =\n",
              "        document.querySelector('#df-2a745875-49a8-4706-a201-be30d54386fa button.colab-df-convert');\n",
              "      buttonEl.style.display =\n",
              "        google.colab.kernel.accessAllowed ? 'block' : 'none';\n",
              "\n",
              "      async function convertToInteractive(key) {\n",
              "        const element = document.querySelector('#df-2a745875-49a8-4706-a201-be30d54386fa');\n",
              "        const dataTable =\n",
              "          await google.colab.kernel.invokeFunction('convertToInteractive',\n",
              "                                                    [key], {});\n",
              "        if (!dataTable) return;\n",
              "\n",
              "        const docLinkHtml = 'Like what you see? Visit the ' +\n",
              "          '<a target=\"_blank\" href=https://colab.research.google.com/notebooks/data_table.ipynb>data table notebook</a>'\n",
              "          + ' to learn more about interactive tables.';\n",
              "        element.innerHTML = '';\n",
              "        dataTable['output_type'] = 'display_data';\n",
              "        await google.colab.output.renderOutput(dataTable, element);\n",
              "        const docLink = document.createElement('div');\n",
              "        docLink.innerHTML = docLinkHtml;\n",
              "        element.appendChild(docLink);\n",
              "      }\n",
              "    </script>\n",
              "  </div>\n",
              "\n",
              "\n",
              "<div id=\"df-b325fa67-566b-4ba8-a8fa-7207b6b3076d\">\n",
              "  <button class=\"colab-df-quickchart\" onclick=\"quickchart('df-b325fa67-566b-4ba8-a8fa-7207b6b3076d')\"\n",
              "            title=\"Suggest charts\"\n",
              "            style=\"display:none;\">\n",
              "\n",
              "<svg xmlns=\"http://www.w3.org/2000/svg\" height=\"24px\"viewBox=\"0 0 24 24\"\n",
              "     width=\"24px\">\n",
              "    <g>\n",
              "        <path d=\"M19 3H5c-1.1 0-2 .9-2 2v14c0 1.1.9 2 2 2h14c1.1 0 2-.9 2-2V5c0-1.1-.9-2-2-2zM9 17H7v-7h2v7zm4 0h-2V7h2v10zm4 0h-2v-4h2v4z\"/>\n",
              "    </g>\n",
              "</svg>\n",
              "  </button>\n",
              "\n",
              "<style>\n",
              "  .colab-df-quickchart {\n",
              "      --bg-color: #E8F0FE;\n",
              "      --fill-color: #1967D2;\n",
              "      --hover-bg-color: #E2EBFA;\n",
              "      --hover-fill-color: #174EA6;\n",
              "      --disabled-fill-color: #AAA;\n",
              "      --disabled-bg-color: #DDD;\n",
              "  }\n",
              "\n",
              "  [theme=dark] .colab-df-quickchart {\n",
              "      --bg-color: #3B4455;\n",
              "      --fill-color: #D2E3FC;\n",
              "      --hover-bg-color: #434B5C;\n",
              "      --hover-fill-color: #FFFFFF;\n",
              "      --disabled-bg-color: #3B4455;\n",
              "      --disabled-fill-color: #666;\n",
              "  }\n",
              "\n",
              "  .colab-df-quickchart {\n",
              "    background-color: var(--bg-color);\n",
              "    border: none;\n",
              "    border-radius: 50%;\n",
              "    cursor: pointer;\n",
              "    display: none;\n",
              "    fill: var(--fill-color);\n",
              "    height: 32px;\n",
              "    padding: 0;\n",
              "    width: 32px;\n",
              "  }\n",
              "\n",
              "  .colab-df-quickchart:hover {\n",
              "    background-color: var(--hover-bg-color);\n",
              "    box-shadow: 0 1px 2px rgba(60, 64, 67, 0.3), 0 1px 3px 1px rgba(60, 64, 67, 0.15);\n",
              "    fill: var(--button-hover-fill-color);\n",
              "  }\n",
              "\n",
              "  .colab-df-quickchart-complete:disabled,\n",
              "  .colab-df-quickchart-complete:disabled:hover {\n",
              "    background-color: var(--disabled-bg-color);\n",
              "    fill: var(--disabled-fill-color);\n",
              "    box-shadow: none;\n",
              "  }\n",
              "\n",
              "  .colab-df-spinner {\n",
              "    border: 2px solid var(--fill-color);\n",
              "    border-color: transparent;\n",
              "    border-bottom-color: var(--fill-color);\n",
              "    animation:\n",
              "      spin 1s steps(1) infinite;\n",
              "  }\n",
              "\n",
              "  @keyframes spin {\n",
              "    0% {\n",
              "      border-color: transparent;\n",
              "      border-bottom-color: var(--fill-color);\n",
              "      border-left-color: var(--fill-color);\n",
              "    }\n",
              "    20% {\n",
              "      border-color: transparent;\n",
              "      border-left-color: var(--fill-color);\n",
              "      border-top-color: var(--fill-color);\n",
              "    }\n",
              "    30% {\n",
              "      border-color: transparent;\n",
              "      border-left-color: var(--fill-color);\n",
              "      border-top-color: var(--fill-color);\n",
              "      border-right-color: var(--fill-color);\n",
              "    }\n",
              "    40% {\n",
              "      border-color: transparent;\n",
              "      border-right-color: var(--fill-color);\n",
              "      border-top-color: var(--fill-color);\n",
              "    }\n",
              "    60% {\n",
              "      border-color: transparent;\n",
              "      border-right-color: var(--fill-color);\n",
              "    }\n",
              "    80% {\n",
              "      border-color: transparent;\n",
              "      border-right-color: var(--fill-color);\n",
              "      border-bottom-color: var(--fill-color);\n",
              "    }\n",
              "    90% {\n",
              "      border-color: transparent;\n",
              "      border-bottom-color: var(--fill-color);\n",
              "    }\n",
              "  }\n",
              "</style>\n",
              "\n",
              "  <script>\n",
              "    async function quickchart(key) {\n",
              "      const quickchartButtonEl =\n",
              "        document.querySelector('#' + key + ' button');\n",
              "      quickchartButtonEl.disabled = true;  // To prevent multiple clicks.\n",
              "      quickchartButtonEl.classList.add('colab-df-spinner');\n",
              "      try {\n",
              "        const charts = await google.colab.kernel.invokeFunction(\n",
              "            'suggestCharts', [key], {});\n",
              "      } catch (error) {\n",
              "        console.error('Error during call to suggestCharts:', error);\n",
              "      }\n",
              "      quickchartButtonEl.classList.remove('colab-df-spinner');\n",
              "      quickchartButtonEl.classList.add('colab-df-quickchart-complete');\n",
              "    }\n",
              "    (() => {\n",
              "      let quickchartButtonEl =\n",
              "        document.querySelector('#df-b325fa67-566b-4ba8-a8fa-7207b6b3076d button');\n",
              "      quickchartButtonEl.style.display =\n",
              "        google.colab.kernel.accessAllowed ? 'block' : 'none';\n",
              "    })();\n",
              "  </script>\n",
              "</div>\n",
              "    </div>\n",
              "  </div>\n"
            ]
          },
          "metadata": {}
        }
      ],
      "source": [
        "import pandas as pd\n",
        "data = {\n",
        "    'Variable Name': ['ID_LINE', 'AGE_OPERATOR', 'YEARS_EXP', 'SENIORITY', 'EMPLOYEE_CAT',\n",
        "                      'HOURS_OFTRAINING_SECURITY', 'HOURS_OFTRAINING_POSITION', 'GRADE_TEOREXAM',\n",
        "                      'GRADE_PRACTICALEXAM', 'NUMBER_ILLS', 'SCORE_RISKOFMACH', 'SCORE_ILLUM',\n",
        "                      'NOISE_ATPLACE', 'NUMBER_EXTRAHOURS', 'NUMBER_RESTHOURS', 'SCORE_HIDRAT',\n",
        "                      'USE_PPE', 'USE_ADEQTOOLS', 'SUFFER_ANXIETY', 'EXPOSED_QUIM', 'AVAILABLE_SPACE',\n",
        "                      'SCORE_FATIGUE', 'EVAL_TIMEAVAIL', 'EVAL_KNOWSUFFIC', 'TEMP_PLACEOFWORK', 'ACA'],\n",
        "    'Measurement Type': ['Nominal', 'Ratio', 'Ratio', 'Ratio', 'Ordinal',\n",
        "                         'Ratio', 'Ratio', 'Scale', 'Scale', 'Ratio', 'Scale', 'Scale',\n",
        "                         'Ratio', 'Ratio', 'Ratio', 'Scale', 'Nominal', 'Nominal', 'Nominal', 'Scale', 'Scale',\n",
        "                         'Scale', 'Scale', 'Scale', 'Ratio', 'Ratio'],\n",
        "    'Variable Role': ['Excluded', 'Predictor', 'Predictor', 'Predictor', 'Predictor',\n",
        "                      'Predictor', 'Predictor', 'Predictor', 'Predictor', 'Predictor', 'Outcome', 'Predictor',\n",
        "                      'Predictor', 'Predictor', 'Predictor', 'Predictor', 'Predictor', 'Predictor', 'Predictor', 'Predictor', 'Predictor',\n",
        "                      'Predictor', 'Predictor', 'Predictor', 'Predictor', 'Outcome']\n",
        "}\n",
        "df = pd.DataFrame(data)\n",
        "from IPython.display import display\n",
        "display(df)\n"
      ]
    },
    {
      "cell_type": "markdown",
      "source": [
        "**Q1)B)** The company Elektra operates within the Manufacturing Industry, with a specialized focus on the production of electrical cables and conductors. They have a wide variety of products catering to various sectors such as automotive, energy, home appliances, and more. Additionally, they have a goal of leading the energy transmission market and plan on becoming a key player in the manufacturing sector."
      ],
      "metadata": {
        "id": "Jxec0GHqGP_3"
      }
    },
    {
      "cell_type": "markdown",
      "source": [
        "**Q2)**\n",
        "**Research Questions:**\n",
        "\n",
        "1)How do factors like age, experience, and training impact the risk of accidents (as measured by **SCORE_RISKOFMACH** and **ACA**) on the production line?\n",
        "\n",
        "2)What is the relationship between workplace conditions (such as **NOISE_ATPLACE**, **SCORE_ILLUM**, and **TEMP_PLACEOFWORK**) and employee well-being (indicated by **SUFFER_ANXIETY**, **SCORE_FATIGUE**, and **NUMBER_RESTHOURS**)?\n",
        "\n",
        "3)Can we predict the likelihood of unsafe acts (**ACA**) based on the operator's professional profile (**AGE_OPERATOR**, **EMPLOYEE_CAT**, **YEARS_EXP**) and work environment factors (**USE_PPE**, **AVAILABLE_SPACE**)?\n",
        "\n",
        "These questions would help us understand the biggest concern about safety that is faced by the company."
      ],
      "metadata": {
        "id": "qQRKf5FyYiGz"
      }
    },
    {
      "cell_type": "code",
      "source": [
        "#importing the required libraries\n",
        "import pandas as pd\n",
        "import seaborn as sns\n",
        "import matplotlib.pyplot as plt\n",
        "from sklearn.model_selection import train_test_split\n",
        "from sklearn.linear_model import LogisticRegression\n",
        "from sklearn.metrics import classification_report, confusion_matrix\n",
        "\n",
        "# Loading the dataset\n",
        "dp = pd.read_excel('PLANT_SECURITY_SV.xlsx')"
      ],
      "metadata": {
        "id": "fDb1j7XRFrND"
      },
      "execution_count": null,
      "outputs": []
    },
    {
      "cell_type": "code",
      "source": [
        "# Displaying the first few rows of the dataset\n",
        "print(dp.head())"
      ],
      "metadata": {
        "colab": {
          "base_uri": "https://localhost:8080/"
        },
        "id": "Qhps-tn8psjI",
        "outputId": "d4e11b48-e92a-4082-cba8-a454b93cd159"
      },
      "execution_count": null,
      "outputs": [
        {
          "output_type": "stream",
          "name": "stdout",
          "text": [
            "           ID_LINE  AGE_OPERATOR  YEARS_EXP  SENIORITY  EMPLOYEE_CAT  \\\n",
            "0       189399M851            36          6          6             6   \n",
            "1      2133265M301            19          1          1             6   \n",
            "2       32695VZF81            39         10         21             6   \n",
            "3      4147823VZ81            22          1          1             7   \n",
            "4  5106984MZV7/1 1            26          1          4             6   \n",
            "\n",
            "   HOURS_OFTRAINING_SECURITY  HOURS_OFTRAINING_POSITION  GRADE_TEOREXAM  \\\n",
            "0                       14.5                         38             100   \n",
            "1                       14.5                         22              95   \n",
            "2                       14.5                         38             100   \n",
            "3                       14.5                         10              90   \n",
            "4                       14.5                         38             100   \n",
            "\n",
            "   GRADE_PRACTICALEXAM  NUMBER_ILLS  ...  USE_ADEQTOOLS  SUFFER?ANXIETY  \\\n",
            "0                  100            3  ...              1               1   \n",
            "1                   95            1  ...              1               0   \n",
            "2                  100            2  ...              1               0   \n",
            "3                   90            2  ...              1               0   \n",
            "4                  100            1  ...              1               0   \n",
            "\n",
            "   EXPOSED_QUIM  SCORE_ILLUM.1  AVAILABLE_SPACE  SCORE_FATIGUE  \\\n",
            "0             1              4                4              3   \n",
            "1             1              4                4              2   \n",
            "2             4              4                3              4   \n",
            "3             3              5                5              5   \n",
            "4             2              4                4              2   \n",
            "\n",
            "   EVAL_TIMEAVAIL  EVAL_KNOWSUFFIC  TEMP_PLACEOFWORK  ACA  \n",
            "0               4                4              36.7    0  \n",
            "1               4                4              36.3    0  \n",
            "2               4                5              36.3    0  \n",
            "3               5                5              36.3    4  \n",
            "4               4                4              36.3    0  \n",
            "\n",
            "[5 rows x 27 columns]\n"
          ]
        }
      ]
    },
    {
      "cell_type": "code",
      "source": [
        "# Checking for missing values\n",
        "print(dp.isnull().sum())"
      ],
      "metadata": {
        "id": "fv7RHX9upMar",
        "colab": {
          "base_uri": "https://localhost:8080/"
        },
        "outputId": "a2bbf409-44ba-4ba9-a456-69e6171cc991"
      },
      "execution_count": null,
      "outputs": [
        {
          "output_type": "stream",
          "name": "stdout",
          "text": [
            "ID_LINE                      0\n",
            "AGE_OPERATOR                 0\n",
            "YEARS_EXP                    0\n",
            "SENIORITY                    0\n",
            "EMPLOYEE_CAT                 0\n",
            "HOURS_OFTRAINING_SECURITY    0\n",
            "HOURS_OFTRAINING_POSITION    0\n",
            "GRADE_TEOREXAM               0\n",
            "GRADE_PRACTICALEXAM          0\n",
            "NUMBER_ILLS                  0\n",
            "SCORE_RISKOFMACH             0\n",
            "SCORE_ILLUM                  0\n",
            "NOISE_ATPLACE                0\n",
            "NUMBER_EXTRAHOURS            0\n",
            "NUMBER_RESTHOURS             0\n",
            "SCORE_HIDRAT                 0\n",
            "USE_PPE                      0\n",
            "USE_ADEQTOOLS                0\n",
            "SUFFER?ANXIETY               0\n",
            "EXPOSED_QUIM                 0\n",
            "SCORE_ILLUM.1                0\n",
            "AVAILABLE_SPACE              0\n",
            "SCORE_FATIGUE                0\n",
            "EVAL_TIMEAVAIL               0\n",
            "EVAL_KNOWSUFFIC              0\n",
            "TEMP_PLACEOFWORK             0\n",
            "ACA                          0\n",
            "dtype: int64\n"
          ]
        }
      ]
    },
    {
      "cell_type": "code",
      "source": [
        "# Summary statistics for the numerical variables\n",
        "print(dp.describe())"
      ],
      "metadata": {
        "id": "XP4wQt-ppODD",
        "colab": {
          "base_uri": "https://localhost:8080/"
        },
        "outputId": "cc05d9f6-fa80-4872-f95e-21e91765be3d"
      },
      "execution_count": null,
      "outputs": [
        {
          "output_type": "stream",
          "name": "stdout",
          "text": [
            "       AGE_OPERATOR   YEARS_EXP   SENIORITY  EMPLOYEE_CAT  \\\n",
            "count    865.000000  865.000000  865.000000    865.000000   \n",
            "mean      35.958382    3.579191    7.972254      5.395376   \n",
            "std        9.693241    3.100333    6.562320      1.248509   \n",
            "min       19.000000    1.000000    1.000000      2.000000   \n",
            "25%       28.000000    1.000000    2.000000      5.000000   \n",
            "50%       34.000000    2.000000    7.000000      6.000000   \n",
            "75%       44.000000    6.000000   15.000000      6.000000   \n",
            "max       57.000000   10.000000   21.000000      7.000000   \n",
            "\n",
            "       HOURS_OFTRAINING_SECURITY  HOURS_OFTRAINING_POSITION  GRADE_TEOREXAM  \\\n",
            "count                      865.0                 865.000000      865.000000   \n",
            "mean                        14.5                  33.535260       97.115607   \n",
            "std                          0.0                   7.859382        5.020610   \n",
            "min                         14.5                  10.000000       80.000000   \n",
            "25%                         14.5                  32.000000       95.000000   \n",
            "50%                         14.5                  38.000000      100.000000   \n",
            "75%                         14.5                  38.000000      100.000000   \n",
            "max                         14.5                  38.000000      100.000000   \n",
            "\n",
            "       GRADE_PRACTICALEXAM  NUMBER_ILLS  SCORE_RISKOFMACH  ...  USE_ADEQTOOLS  \\\n",
            "count           865.000000   865.000000        865.000000  ...     865.000000   \n",
            "mean             97.358382     1.658960        821.669503  ...       0.708671   \n",
            "std               4.911120     1.154898        170.550540  ...       0.454638   \n",
            "min              80.000000     0.000000        623.100000  ...       0.000000   \n",
            "25%              95.000000     1.000000        623.800000  ...       0.000000   \n",
            "50%             100.000000     2.000000        789.000000  ...       1.000000   \n",
            "75%             100.000000     3.000000        868.000000  ...       1.000000   \n",
            "max             100.000000     4.000000       1072.000000  ...       1.000000   \n",
            "\n",
            "       SUFFER?ANXIETY  EXPOSED_QUIM  SCORE_ILLUM.1  AVAILABLE_SPACE  \\\n",
            "count      865.000000    865.000000     865.000000       865.000000   \n",
            "mean         0.223121      2.395376       4.223121         4.083237   \n",
            "std          0.416580      1.197403       0.745308         0.868699   \n",
            "min          0.000000      1.000000       2.000000         1.000000   \n",
            "25%          0.000000      1.000000       4.000000         4.000000   \n",
            "50%          0.000000      2.000000       4.000000         4.000000   \n",
            "75%          0.000000      3.000000       5.000000         5.000000   \n",
            "max          1.000000      5.000000       5.000000         5.000000   \n",
            "\n",
            "       SCORE_FATIGUE  EVAL_TIMEAVAIL  EVAL_KNOWSUFFIC  TEMP_PLACEOFWORK  \\\n",
            "count     865.000000      865.000000       865.000000        865.000000   \n",
            "mean        2.690173        3.937572         3.953757         36.537688   \n",
            "std         1.300359        0.823996         0.961137          1.313442   \n",
            "min         1.000000        1.000000         1.000000         33.700000   \n",
            "25%         2.000000        4.000000         4.000000         35.400000   \n",
            "50%         2.000000        4.000000         4.000000         37.000000   \n",
            "75%         4.000000        4.000000         5.000000         37.500000   \n",
            "max         5.000000        5.000000         5.000000         39.000000   \n",
            "\n",
            "              ACA  \n",
            "count  865.000000  \n",
            "mean     1.026590  \n",
            "std      2.825641  \n",
            "min      0.000000  \n",
            "25%      0.000000  \n",
            "50%      0.000000  \n",
            "75%      1.000000  \n",
            "max     63.000000  \n",
            "\n",
            "[8 rows x 26 columns]\n"
          ]
        }
      ]
    },
    {
      "cell_type": "code",
      "source": [
        "# Checking for outliers using boxplots\n",
        "numerical_vars = ['AGE_OPERATOR', 'YEARS_EXP', 'HOURS_OFTRAINING_SECURITY', 'NOISE_ATPLACE', 'SCORE_ILLUM', 'TEMP_PLACEOFWORK']\n",
        "for var in numerical_vars:\n",
        "    sns.boxplot(x=dp[var])\n",
        "    plt.show()"
      ],
      "metadata": {
        "id": "V_BhzduWpWmr",
        "colab": {
          "base_uri": "https://localhost:8080/",
          "height": 1000
        },
        "outputId": "3f3a28d9-ed82-43a2-d0fe-d330ef60e8ee"
      },
      "execution_count": null,
      "outputs": [
        {
          "output_type": "display_data",
          "data": {
            "text/plain": [
              "<Figure size 640x480 with 1 Axes>"
            ],
            "image/png": "[encoded data removed]"
          },
          "metadata": {}
        },
        {
          "output_type": "display_data",
          "data": {
            "text/plain": [
              "<Figure size 640x480 with 1 Axes>"
            ],
            "image/png": "[encoded data removed]"
          },
          "metadata": {}
        },
        {
          "output_type": "display_data",
          "data": {
            "text/plain": [
              "<Figure size 640x480 with 1 Axes>"
            ],
            "image/png": "[encoded data removed]"
          },
          "metadata": {}
        },
        {
          "output_type": "display_data",
          "data": {
            "text/plain": [
              "<Figure size 640x480 with 1 Axes>"
            ],
            "image/png": "[encoded data removed]"
          },
          "metadata": {}
        },
        {
          "output_type": "display_data",
          "data": {
            "text/plain": [
              "<Figure size 640x480 with 1 Axes>"
            ],
            "image/png": "[encoded data removed]"
          },
          "metadata": {}
        },
        {
          "output_type": "display_data",
          "data": {
            "text/plain": [
              "<Figure size 640x480 with 1 Axes>"
            ],
            "image/png": "[encoded data removed]"
          },
          "metadata": {}
        }
      ]
    },
    {
      "cell_type": "markdown",
      "source": [
        "**Q3)A)** We can see that there are no significant outliers or any null values in any of the variables considered. We can see that all the workers have gone through 14.5 hours of mandatory safety trainings. The only outliers are found in the Noise at place variable, which we can interview on a case by case basis.\n"
      ],
      "metadata": {
        "id": "baJPfiEkEKBg"
      }
    },
    {
      "cell_type": "markdown",
      "source": [
        "**Q3)B)**\n",
        "**Excluded Variables:** ID_LINE has been excluded as it serves as an identifier rather than a feature that influences outcomes.\n",
        "\n",
        "**Predictor Variables:** AGE_OPERATOR, YEARS_EXP, and HOURS_OFTRAINING_SECURITY are typical predictors as they describe the operator’s background and experience, which influences performance and safety.\n",
        "\n",
        "**Outcome Variables:** SCORE_RISKOFMACH and ACA are outcomes because they are direct measures of safety."
      ],
      "metadata": {
        "id": "paxD_m7LJHUh"
      }
    },
    {
      "cell_type": "code",
      "source": [
        "import numpy as np\n",
        "import pandas as pd\n",
        "from sklearn.model_selection import train_test_split, cross_val_score\n",
        "from sklearn.preprocessing import StandardScaler\n",
        "from sklearn.linear_model import LinearRegression, LogisticRegression, Lasso\n",
        "from sklearn.ensemble import RandomForestRegressor, RandomForestClassifier, GradientBoostingClassifier\n",
        "from sklearn.metrics import mean_squared_error, accuracy_score, confusion_matrix, classification_report\n",
        "from sklearn.svm import SVC\n",
        "import matplotlib.pyplot as plt\n",
        "import seaborn as sns\n",
        "from sklearn.model_selection import GridSearchCV\n"
      ],
      "metadata": {
        "id": "5G7fNhXDIFJh"
      },
      "execution_count": 7,
      "outputs": []
    },
    {
      "cell_type": "code",
      "source": [
        "# Load the dataset\n",
        "df = pd.read_excel('/content/PLANT_SECURITY_SV (2).xlsx', sheet_name='DB')\n",
        "\n",
        "# Check for any missing values and handle them (e.g., with imputation or removal)\n",
        "df.isnull().sum()  # Uncomment to check for missing values\n",
        "df.fillna(df.mean(numeric_only=True), inplace=True)  # Example of imputation with mean values\n",
        "\n",
        "# Convert categorical variables to numeric if necessary\n",
        "# df = pd.get_dummies(df, columns=['EMPLOYEE_CAT'], drop_first=True)  # Example for categorical conversion\n"
      ],
      "metadata": {
        "id": "IQNa45OVEs9_"
      },
      "execution_count": 6,
      "outputs": []
    },
    {
      "cell_type": "code",
      "source": [
        "from sklearn.linear_model import LogisticRegression\n",
        "from sklearn.preprocessing import StandardScaler\n",
        "from sklearn.metrics import classification_report, confusion_matrix\n",
        "\n",
        "# Define features and target\n",
        "X = df[['AGE_OPERATOR', 'EMPLOYEE_CAT', 'YEARS_EXP', 'USE_PPE', 'AVAILABLE_SPACE']]\n",
        "y = df['ACA'] > 0  # Assuming ACA > 0 indicates unsafe acts, making it a binary outcome\n",
        "\n",
        "# Split the dataset into training and testing sets\n",
        "X_train, X_test, y_train, y_test = train_test_split(X, y, test_size=0.2, random_state=42)\n",
        "\n",
        "# Standardize the features\n",
        "scaler = StandardScaler()\n",
        "X_train_scaled = scaler.fit_transform(X_train)\n",
        "X_test_scaled = scaler.transform(X_test)\n",
        "\n",
        "# Initialize and train the Logistic Regression model with LASSO penalty\n",
        "log_reg_lasso = LogisticRegression(penalty='l1', solver='liblinear', random_state=42)\n",
        "log_reg_lasso.fit(X_train_scaled, y_train)\n",
        "\n",
        "# Predictions and Evaluation\n",
        "y_pred = log_reg_lasso.predict(X_test_scaled)\n",
        "print(\"Classification Report for Logistic Regression with LASSO:\\n\", classification_report(y_test, y_pred))\n",
        "print(\"Confusion Matrix:\\n\", confusion_matrix(y_test, y_pred))\n"
      ],
      "metadata": {
        "colab": {
          "base_uri": "https://localhost:8080/"
        },
        "id": "plDVnq8fGJhO",
        "outputId": "459d44e0-5e66-46fe-a4a9-5c0480f76c28"
      },
      "execution_count": 9,
      "outputs": [
        {
          "output_type": "stream",
          "name": "stdout",
          "text": [
            "Classification Report for Logistic Regression with LASSO:\n",
            "               precision    recall  f1-score   support\n",
            "\n",
            "       False       0.80      0.99      0.88       135\n",
            "        True       0.67      0.11      0.18        38\n",
            "\n",
            "    accuracy                           0.79       173\n",
            "   macro avg       0.73      0.55      0.53       173\n",
            "weighted avg       0.77      0.79      0.73       173\n",
            "\n",
            "Confusion Matrix:\n",
            " [[133   2]\n",
            " [ 34   4]]\n"
          ]
        }
      ]
    },
    {
      "cell_type": "code",
      "source": [
        "from sklearn.ensemble import RandomForestClassifier\n",
        "\n",
        "# Initialize and train the Random Forest model\n",
        "random_forest = RandomForestClassifier(n_estimators=100, random_state=42)\n",
        "random_forest.fit(X_train_scaled, y_train)\n",
        "\n",
        "# Predictions and Evaluation\n",
        "y_pred_rf = random_forest.predict(X_test_scaled)\n",
        "print(\"Classification Report for Random Forest:\\n\", classification_report(y_test, y_pred_rf))\n",
        "print(\"Confusion Matrix:\\n\", confusion_matrix(y_test, y_pred_rf))\n"
      ],
      "metadata": {
        "colab": {
          "base_uri": "https://localhost:8080/"
        },
        "id": "KVHdJa5gGK4U",
        "outputId": "7330dcf6-1f09-47d9-8c84-0d833778c52b"
      },
      "execution_count": 10,
      "outputs": [
        {
          "output_type": "stream",
          "name": "stdout",
          "text": [
            "Classification Report for Random Forest:\n",
            "               precision    recall  f1-score   support\n",
            "\n",
            "       False       0.80      0.85      0.83       135\n",
            "        True       0.33      0.26      0.29        38\n",
            "\n",
            "    accuracy                           0.72       173\n",
            "   macro avg       0.57      0.56      0.56       173\n",
            "weighted avg       0.70      0.72      0.71       173\n",
            "\n",
            "Confusion Matrix:\n",
            " [[115  20]\n",
            " [ 28  10]]\n"
          ]
        }
      ]
    },
    {
      "cell_type": "code",
      "source": [
        "from sklearn.ensemble import GradientBoostingClassifier\n",
        "\n",
        "# Initialize and train the Gradient Boosting model\n",
        "gradient_boosting = GradientBoostingClassifier(n_estimators=100, learning_rate=1.0, max_depth=1, random_state=42)\n",
        "gradient_boosting.fit(X_train_scaled, y_train)\n",
        "\n",
        "# Predictions and Evaluation\n",
        "y_pred_gb = gradient_boosting.predict(X_test_scaled)\n",
        "print(\"Classification Report for Gradient Boosting:\\n\", classification_report(y_test, y_pred_gb))\n",
        "print(\"Confusion Matrix:\\n\", confusion_matrix(y_test, y_pred_gb))\n"
      ],
      "metadata": {
        "colab": {
          "base_uri": "https://localhost:8080/"
        },
        "id": "8L0FS8fEGO9k",
        "outputId": "c28ec179-38a3-4645-a7d4-f30ad91bc00c"
      },
      "execution_count": 11,
      "outputs": [
        {
          "output_type": "stream",
          "name": "stdout",
          "text": [
            "Classification Report for Gradient Boosting:\n",
            "               precision    recall  f1-score   support\n",
            "\n",
            "       False       0.81      0.96      0.87       135\n",
            "        True       0.54      0.18      0.27        38\n",
            "\n",
            "    accuracy                           0.79       173\n",
            "   macro avg       0.67      0.57      0.57       173\n",
            "weighted avg       0.75      0.79      0.74       173\n",
            "\n",
            "Confusion Matrix:\n",
            " [[129   6]\n",
            " [ 31   7]]\n"
          ]
        }
      ]
    },
    {
      "cell_type": "code",
      "source": [
        "# Define parameter grid for Logistic Regression\n",
        "param_grid_lr = {'C': [0.01, 0.1, 1, 10, 100]}\n",
        "\n",
        "# Initialize the model\n",
        "log_reg_lasso = LogisticRegression(penalty='l1', solver='liblinear', random_state=42)\n",
        "\n",
        "# Setup GridSearchCV\n",
        "grid_search_lr = GridSearchCV(log_reg_lasso, param_grid_lr, cv=5, scoring='accuracy', return_train_score=True)\n",
        "\n",
        "# Fit the model\n",
        "grid_search_lr.fit(X_train_scaled, y_train)\n",
        "\n",
        "# Best parameters and scores\n",
        "print(\"Best parameters for Logistic Regression:\", grid_search_lr.best_params_)\n",
        "print(\"Best cross-validation score (Accuracy):\", grid_search_lr.best_score_)\n"
      ],
      "metadata": {
        "colab": {
          "base_uri": "https://localhost:8080/"
        },
        "id": "RL5T5PysFg3K",
        "outputId": "b4fe60a3-d540-418f-bdb8-6b5f0d7fabd4"
      },
      "execution_count": 12,
      "outputs": [
        {
          "output_type": "stream",
          "name": "stdout",
          "text": [
            "Best parameters for Logistic Regression: {'C': 1}\n",
            "Best cross-validation score (Accuracy): 0.7486184965071422\n"
          ]
        }
      ]
    },
    {
      "cell_type": "code",
      "source": [
        "# Define parameter grid for Random Forest\n",
        "param_grid_rf = {\n",
        "    'n_estimators': [10, 50, 100],\n",
        "    'max_depth': [None, 10, 20, 30]\n",
        "}\n",
        "\n",
        "# Initialize the model\n",
        "random_forest = RandomForestClassifier(random_state=42)\n",
        "\n",
        "# Setup GridSearchCV\n",
        "grid_search_rf = GridSearchCV(random_forest, param_grid_rf, cv=5, scoring='accuracy', return_train_score=True)\n",
        "\n",
        "# Fit the model\n",
        "grid_search_rf.fit(X_train_scaled, y_train)\n",
        "\n",
        "# Best parameters and scores\n",
        "print(\"Best parameters for Random Forest:\", grid_search_rf.best_params_)\n",
        "print(\"Best cross-validation score (Accuracy):\", grid_search_rf.best_score_)\n"
      ],
      "metadata": {
        "colab": {
          "base_uri": "https://localhost:8080/"
        },
        "id": "jsMFXAC9GYgp",
        "outputId": "ded279e5-e046-4650-8c9a-be32472b0ed7"
      },
      "execution_count": 13,
      "outputs": [
        {
          "output_type": "stream",
          "name": "stdout",
          "text": [
            "Best parameters for Random Forest: {'max_depth': 10, 'n_estimators': 100}\n",
            "Best cross-validation score (Accuracy): 0.712501303305182\n"
          ]
        }
      ]
    },
    {
      "cell_type": "code",
      "source": [
        "# Define parameter grid for Gradient Boosting\n",
        "param_grid_gb = {\n",
        "    'n_estimators': [100, 200],\n",
        "    'learning_rate': [0.01, 0.1, 0.5]\n",
        "}\n",
        "\n",
        "# Initialize the model\n",
        "gradient_boosting = GradientBoostingClassifier(random_state=42)\n",
        "\n",
        "# Setup GridSearchCV\n",
        "grid_search_gb = GridSearchCV(gradient_boosting, param_grid_gb, cv=5, scoring='accuracy', return_train_score=True)\n",
        "\n",
        "# Fit the model\n",
        "grid_search_gb.fit(X_train_scaled, y_train)\n",
        "\n",
        "# Best parameters and scores\n",
        "print(\"Best parameters for Gradient Boosting:\", grid_search_gb.best_params_)\n",
        "print(\"Best cross-validation score (Accuracy):\", grid_search_gb.best_score_)\n"
      ],
      "metadata": {
        "colab": {
          "base_uri": "https://localhost:8080/"
        },
        "id": "DLmnW96TGaFl",
        "outputId": "7ed3da60-1f3a-4d0b-da75-1f30ff287033"
      },
      "execution_count": 14,
      "outputs": [
        {
          "output_type": "stream",
          "name": "stdout",
          "text": [
            "Best parameters for Gradient Boosting: {'learning_rate': 0.01, 'n_estimators': 200}\n",
            "Best cross-validation score (Accuracy): 0.744239391095819\n"
          ]
        }
      ]
    },
    {
      "cell_type": "code",
      "source": [
        "# evaluation for Logistic Regression with the best parameters\n",
        "y_pred_lr = grid_search_lr.best_estimator_.predict(X_test_scaled)\n",
        "print(\"Test set accuracy for Logistic Regression:\", accuracy_score(y_test, y_pred_lr))\n",
        "\n",
        "# Using the best estimator from GridSearchCV for Random Forest\n",
        "y_pred_rf = grid_search_rf.best_estimator_.predict(X_test_scaled)\n",
        "\n",
        "# Calculate the accuracy score for Random Forest on the test set\n",
        "accuracy_rf = accuracy_score(y_test, y_pred_rf)\n",
        "\n",
        "# Print the test set accuracy for Random Forest\n",
        "print(\"Test set accuracy for Random Forest:\", accuracy_rf)\n",
        "\n",
        "# Using the best estimator from GridSearchCV for Gradient Boosting\n",
        "y_pred_gb = grid_search_gb.best_estimator_.predict(X_test_scaled)\n",
        "\n",
        "# Calculate the accuracy score for Gradient Boosting on the test set\n",
        "accuracy_gb = accuracy_score(y_test, y_pred_gb)\n",
        "\n",
        "# Print the test set accuracy for Gradient Boosting\n",
        "print(\"Test set accuracy for Gradient Boosting:\", accuracy_gb)\n"
      ],
      "metadata": {
        "colab": {
          "base_uri": "https://localhost:8080/"
        },
        "id": "isND9LxUHdvW",
        "outputId": "ee7e9ce6-949d-4919-e36e-bda0ffc1f795"
      },
      "execution_count": 20,
      "outputs": [
        {
          "output_type": "stream",
          "name": "stdout",
          "text": [
            "Test set accuracy for Logistic Regression: 0.791907514450867\n",
            "Test set accuracy for Random Forest: 0.7283236994219653\n",
            "Test set accuracy for Gradient Boosting: 0.7803468208092486\n"
          ]
        }
      ]
    },
    {
      "cell_type": "code",
      "source": [
        "from sklearn.metrics import confusion_matrix\n",
        "\n",
        "def display_confusion_matrix(y_true, y_pred):\n",
        "    cm = confusion_matrix(y_true, y_pred)\n",
        "    tn, fp, fn, tp = cm.ravel()\n",
        "    print(f\"True Negatives: {tn}\")\n",
        "    print(f\"False Positives: {fp}\")\n",
        "    print(f\"False Negatives: {fn}\")\n",
        "    print(f\"True Positives: {tp}\")\n",
        "    return cm\n"
      ],
      "metadata": {
        "id": "oANnSX9ZHNrn"
      },
      "execution_count": 16,
      "outputs": []
    },
    {
      "cell_type": "code",
      "source": [
        "# Optimal hyperparameters\n",
        "print(\"Optimal hyperparameters for Logistic Regression:\", grid_search_lr.best_params_)\n",
        "\n",
        "# Metrics\n",
        "accuracy_lr = accuracy_score(y_test, y_pred_lr)\n",
        "print(\"Accuracy for Logistic Regression:\", accuracy_lr)\n",
        "\n",
        "# Confusion Matrix\n",
        "cm_lr = display_confusion_matrix(y_test, y_pred_lr)\n",
        "\n",
        "# Variable Importance (Coefficient magnitude)\n",
        "coefficients = grid_search_lr.best_estimator_.coef_.flatten()\n",
        "features = X.columns\n",
        "feature_importance_lr = pd.Series(coefficients, index=features).sort_values(key=abs, ascending=False)\n",
        "print(\"Feature importance for Logistic Regression:\\n\", feature_importance_lr)\n"
      ],
      "metadata": {
        "colab": {
          "base_uri": "https://localhost:8080/"
        },
        "id": "ogE7F2HlHUw5",
        "outputId": "78cd161a-6d63-460f-fd3b-e1ba3dea26f1"
      },
      "execution_count": 17,
      "outputs": [
        {
          "output_type": "stream",
          "name": "stdout",
          "text": [
            "Optimal hyperparameters for Logistic Regression: {'C': 1}\n",
            "Accuracy for Logistic Regression: 0.791907514450867\n",
            "True Negatives: 133\n",
            "False Positives: 2\n",
            "False Negatives: 34\n",
            "True Positives: 4\n",
            "Feature importance for Logistic Regression:\n",
            " USE_PPE           -0.325905\n",
            "AGE_OPERATOR      -0.283476\n",
            "AVAILABLE_SPACE   -0.234148\n",
            "EMPLOYEE_CAT      -0.147085\n",
            "YEARS_EXP          0.141227\n",
            "dtype: float64\n"
          ]
        }
      ]
    },
    {
      "cell_type": "code",
      "source": [
        "# Optimal hyperparameters\n",
        "print(\"Optimal hyperparameters for Random Forest:\", grid_search_rf.best_params_)\n",
        "\n",
        "# Predictions using the best estimator\n",
        "y_pred_rf = grid_search_rf.best_estimator_.predict(X_test_scaled)\n",
        "\n",
        "# Metrics\n",
        "accuracy_rf = accuracy_score(y_test, y_pred_rf)\n",
        "print(\"Accuracy for Random Forest:\", accuracy_rf)\n",
        "\n",
        "# Confusion Matrix\n",
        "cm_rf = display_confusion_matrix(y_test, y_pred_rf)\n",
        "\n",
        "# Variable Importance\n",
        "importances_rf = grid_search_rf.best_estimator_.feature_importances_\n",
        "feature_importance_rf = pd.Series(importances_rf, index=features).sort_values(ascending=False)\n",
        "print(\"Feature importance for Random Forest:\\n\", feature_importance_rf)\n"
      ],
      "metadata": {
        "colab": {
          "base_uri": "https://localhost:8080/"
        },
        "id": "I8AZ7TWiHYU4",
        "outputId": "ffa6d7e5-66a0-4d02-d95c-042ddb794fa7"
      },
      "execution_count": 18,
      "outputs": [
        {
          "output_type": "stream",
          "name": "stdout",
          "text": [
            "Optimal hyperparameters for Random Forest: {'max_depth': 10, 'n_estimators': 100}\n",
            "Accuracy for Random Forest: 0.7283236994219653\n",
            "True Negatives: 118\n",
            "False Positives: 17\n",
            "False Negatives: 30\n",
            "True Positives: 8\n",
            "Feature importance for Random Forest:\n",
            " AGE_OPERATOR       0.356825\n",
            "AVAILABLE_SPACE    0.190483\n",
            "EMPLOYEE_CAT       0.188259\n",
            "YEARS_EXP          0.163764\n",
            "USE_PPE            0.100668\n",
            "dtype: float64\n"
          ]
        }
      ]
    },
    {
      "cell_type": "code",
      "source": [
        "# Optimal hyperparameters\n",
        "print(\"Optimal hyperparameters for Gradient Boosting:\", grid_search_gb.best_params_)\n",
        "\n",
        "# Predictions using the best estimator\n",
        "y_pred_gb = grid_search_gb.best_estimator_.predict(X_test_scaled)\n",
        "\n",
        "# Metrics\n",
        "accuracy_gb = accuracy_score(y_test, y_pred_gb)\n",
        "print(\"Accuracy for Gradient Boosting:\", accuracy_gb)\n",
        "\n",
        "# Confusion Matrix\n",
        "cm_gb = display_confusion_matrix(y_test, y_pred_gb)\n",
        "\n",
        "# Variable Importance\n",
        "importances_gb = grid_search_gb.best_estimator_.feature_importances_\n",
        "feature_importance_gb = pd.Series(importances_gb, index=features).sort_values(ascending=False)\n",
        "print(\"Feature importance for Gradient Boosting:\\n\", feature_importance_gb)\n"
      ],
      "metadata": {
        "colab": {
          "base_uri": "https://localhost:8080/"
        },
        "id": "1r39WRQPHbFf",
        "outputId": "e296e80a-f3e1-42fd-9454-82f280956cbb"
      },
      "execution_count": 19,
      "outputs": [
        {
          "output_type": "stream",
          "name": "stdout",
          "text": [
            "Optimal hyperparameters for Gradient Boosting: {'learning_rate': 0.01, 'n_estimators': 200}\n",
            "Accuracy for Gradient Boosting: 0.7803468208092486\n",
            "True Negatives: 130\n",
            "False Positives: 5\n",
            "False Negatives: 33\n",
            "True Positives: 5\n",
            "Feature importance for Gradient Boosting:\n",
            " AGE_OPERATOR       0.413651\n",
            "USE_PPE            0.258957\n",
            "EMPLOYEE_CAT       0.182732\n",
            "AVAILABLE_SPACE    0.092681\n",
            "YEARS_EXP          0.051979\n",
            "dtype: float64\n"
          ]
        }
      ]
    }
  ]
}